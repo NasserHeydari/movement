{
 "cells": [
  {
   "cell_type": "markdown",
   "metadata": {},
   "source": [
    "## Assemble Training Dataset\n",
    "\n",
    "This notebook unzips the needed files from the downloaded data from University of Mannheim - Research Group Data and Web Science - RealWorld (HAR) data:\n",
    "https://sensor.informatik.uni-mannheim.de/#dataset_realworld"
   ]
  },
  {
   "cell_type": "code",
   "execution_count": 2,
   "metadata": {},
   "outputs": [],
   "source": [
    "import numpy as np\n",
    "import pandas as pd\n",
    "import matplotlib.pyplot as plt\n",
    "import zipfile"
   ]
  },
  {
   "cell_type": "code",
   "execution_count": null,
   "metadata": {},
   "outputs": [],
   "source": [
    "# unzip accelerometer files\n",
    "# several files had \"_2\" inserted; one was missing\n",
    "\n",
    "activities =[\"climbingdown\",\"climbingup\",\"jumping\",\"lying\",\"running\",\"sitting\",\"standing\",\"walking\"]\n",
    "for subject in range(1,11):  # extract subjects\n",
    "    zipfilepath=\"./data/proband\"+str(subject)+\"/data/\"\n",
    "    for activity in activities:\n",
    "        zipfilename = \"acc_\"+activity+\"_csv.zip\"\n",
    "        if (subject==4 and activity=='walking'):\n",
    "            filename =\"acc_walking_2_thigh.csv\" \n",
    "        elif (subject in [6,7] and activity=='sitting'):\n",
    "            filename =\"acc_sitting_2_thigh.csv\"\n",
    "        elif (subject ==8 and activity=='standing'):\n",
    "             filename =\"acc_standing_2_thigh.csv\"\n",
    "        elif (subject==6 and activity=='jumping'):  #thigh data is missing, but other locations are available\n",
    "            continue # skip this iteration and move to the next\n",
    "        else:\n",
    "            filename = \"acc_\"+activity+\"_thigh.csv\"\n",
    "        savepath = \"./data/\"+str(subject)+\"/\"\n",
    "        with zipfile.ZipFile(zipfilepath+zipfilename,\"r\") as zip_ref:\n",
    "            zip_ref.extract(filename, path=savepath)"
   ]
  },
  {
   "cell_type": "code",
   "execution_count": 62,
   "metadata": {},
   "outputs": [],
   "source": [
    "# unzip accelerometer files\n",
    "# several files had \"_2\" inserted; one was missing\n",
    "\n",
    "sensor = \"gyr_\"\n",
    "activities =[\"climbingdown\",\"climbingup\",\"jumping\",\"lying\",\"running\",\"sitting\",\"standing\",\"walking\"]\n",
    "for subject in range(1,11):  # extract subjects\n",
    "    zipfilepath=\"./data/proband\"+str(subject)+\"/data/\"\n",
    "    for activity in activities:\n",
    "        zipfilename = sensor+activity+\"_csv.zip\"\n",
    "        if subject==1 and activity==\"sitting\":\n",
    "            continue\n",
    "        elif subject==4 and activity==\"walking\":\n",
    "            filename = \"Gyroscope_walking_2_thigh.csv\"\n",
    "        elif subject==6 and activity==\"jumping\":\n",
    "            continue\n",
    "        elif (subject in [6,7] and activity=='sitting'):\n",
    "            filename =\"Gyroscope_sitting_2_thigh.csv\"\n",
    "        elif (subject ==8 and activity=='standing'):\n",
    "             filename =\"Gyroscope_standing_2_thigh.csv\"\n",
    "        else:\n",
    "            filename = \"Gyroscope_\"+activity+\"_thigh.csv\"\n",
    "        savepath = \"./data/\"+str(subject)+\"/\"\n",
    "        with zipfile.ZipFile(zipfilepath+zipfilename,\"r\") as zip_ref:\n",
    "            zip_ref.extract(filename, path=savepath)"
   ]
  },
  {
   "cell_type": "code",
   "execution_count": 19,
   "metadata": {},
   "outputs": [],
   "source": [
    "# rename _2 files\n",
    "import os\n",
    "os.rename(\"./data/4/acc_walking_2_thigh.csv\", \"./data/4/acc_walking_thigh.csv\")\n",
    "os.rename(\"./data/6/acc_sitting_2_thigh.csv\", \"./data/6/acc_sitting_thigh.csv\")\n",
    "os.rename(\"./data/7/acc_sitting_2_thigh.csv\", \"./data/7/acc_sitting_thigh.csv\")\n",
    "os.rename(\"./data/8/acc_standing_2_thigh.csv\", \"./data/8/acc_standing_thigh.csv\")\n",
    "os.rename(\"./data/4/Gyroscope_walking_2_thigh.csv\", \"./data/4/Gyroscope_walking_thigh.csv\")\n",
    "os.rename(\"./data/6/Gyroscope_sitting_2_thigh.csv\", \"./data/6/Gyroscope_sitting_thigh.csv\")\n",
    "os.rename(\"./data/7/Gyroscope_sitting_2_thigh.csv\", \"./data/7/Gyroscope_sitting_thigh.csv\")\n",
    "os.rename(\"./data/8/Gyroscope_standing_2_thigh.csv\", \"./data/8/Gyroscope_standing_thigh.csv\")"
   ]
  },
  {
   "cell_type": "code",
   "execution_count": 80,
   "metadata": {},
   "outputs": [
    {
     "name": "stderr",
     "output_type": "stream",
     "text": [
      "C:\\Users\\pauls\\Anaconda3\\envs\\dsi\\lib\\site-packages\\ipykernel_launcher.py:34: SettingWithCopyWarning: \n",
      "A value is trying to be set on a copy of a slice from a DataFrame\n",
      "\n",
      "See the caveats in the documentation: http://pandas.pydata.org/pandas-docs/stable/indexing.html#indexing-view-versus-copy\n"
     ]
    }
   ],
   "source": [
    "# merge all activities into 1 df, for subjects 1-10, with gyroscope & accelerometer sensors combined\n",
    "thigh = pd.DataFrame()  # initialize empty df\n",
    "windowsize = 100 # use 2 sec windows\n",
    "last_sample = 0\n",
    "activities =[\"climbingdown\",\"climbingup\",\"jumping\",\"lying\",\"running\",\"sitting\",\"standing\",\"walking\"]\n",
    "# iterate over subjects\n",
    "for subject in range(1,11):\n",
    "    # iterate over the separate activity files\n",
    "    for i, activity in enumerate(activities):\n",
    "        if subject==6 and activity==\"jumping\":\n",
    "            continue # missing data for subject 6 acc data from thigh (other locations available)\n",
    "        g_filename = \"./data/\"+str(subject)+\"/Gyroscope_\"+activity+\"_thigh.csv\"\n",
    "        a_filename = \"./data/\"+str(subject)+\"/acc_\"+activity+\"_thigh.csv\"\n",
    "        gyr = pd.read_csv(g_filename, index_col=0)\n",
    "        acc = pd.read_csv(a_filename, index_col=0)\n",
    "        # make sure the different sensor files have the same number of readings\n",
    "        if len(gyr)>len(acc):\n",
    "            extra_records=len(gyr)-len(acc)\n",
    "            acc = acc[:-extra_records]\n",
    "        if len(gyr)<len(acc):\n",
    "            extra_records=len(acc)-len(gyr)\n",
    "            gyr = gyr[:-extra_records]\n",
    "        df = pd.merge(gyr,acc,right_index=True,left_index=True,suffixes=('_gyr','_acc'))\n",
    "        df['activity']=activity\n",
    "        df['label']=i\n",
    "        df['subject']=subject\n",
    "        df['sample_num']=-1  # just to create the column   \n",
    "        remainder=len(df)%windowsize\n",
    "        df=df[:-remainder]  # delete rows so that all samples are the same size\n",
    "        num_samples=int(len(df)/windowsize)  # the number of samples of size windowsize for the activity\n",
    "        row_counter=0\n",
    "    # label the samples within each activity file    \n",
    "        for j in range(0,num_samples):   \n",
    "            df.sample_num[row_counter:row_counter+windowsize]=last_sample+j # label samples\n",
    "            row_counter=row_counter+windowsize\n",
    "        last_sample+=num_samples # label the samples consecutively across activities\n",
    "        thigh = thigh.append(df, ignore_index=True)"
   ]
  },
  {
   "cell_type": "code",
   "execution_count": 81,
   "metadata": {},
   "outputs": [],
   "source": [
    "thigh.to_pickle('./thigh100.pkl')"
   ]
  },
  {
   "cell_type": "code",
   "execution_count": 76,
   "metadata": {},
   "outputs": [
    {
     "data": {
      "text/plain": [
       "5     246150\n",
       "8     244650\n",
       "3     228300\n",
       "9     225150\n",
       "6     211800\n",
       "10    210750\n",
       "2     208050\n",
       "4     205500\n",
       "7     191400\n",
       "1     188250\n",
       "Name: subject, dtype: int64"
      ]
     },
     "execution_count": 76,
     "metadata": {},
     "output_type": "execute_result"
    }
   ],
   "source": [
    "thigh.subject.value_counts()"
   ]
  },
  {
   "cell_type": "code",
   "execution_count": 49,
   "metadata": {},
   "outputs": [],
   "source": [
    "# count number of records by subject, activity, and sensor\n",
    "record_counts = []  # initialize empty list\n",
    "activities =[\"climbingdown\",\"climbingup\",\"jumping\",\"lying\",\"running\",\"sitting\",\"standing\",\"walking\"]\n",
    "# iterate over subjects\n",
    "for subject in range(1,10):\n",
    "    # iterate over the separate activity files\n",
    "    for i, activity in enumerate(activities):\n",
    "        if subject==1 and activity==\"sitting\":\n",
    "            continue # missing data for this subject / activity\n",
    "        if subject==6 and activity==\"jumping\":\n",
    "            continue # missing data for this subject / activity\n",
    "        g_filename = \"./data/\"+str(subject)+\"/Gyroscope_\"+activity+\"_thigh.csv\"\n",
    "        a_filename = \"./data/\"+str(subject)+\"/acc_\"+activity+\"_thigh.csv\"\n",
    "        with open(g_filename) as f:\n",
    "            gyr_count = sum(1 for line in f)\n",
    "        with open(a_filename) as f:\n",
    "            acc_count = sum(1 for line in f)\n",
    "        record_counts.append({'subject':subject,\n",
    "                              'activity':activity,\n",
    "                              'gyr_count':gyr_count,\n",
    "                              'acc_count':acc_count})\n",
    "records=pd.DataFrame(record_counts)"
   ]
  }
 ],
 "metadata": {
  "kernelspec": {
   "display_name": "Python 3",
   "language": "python",
   "name": "python3"
  },
  "language_info": {
   "codemirror_mode": {
    "name": "ipython",
    "version": 3
   },
   "file_extension": ".py",
   "mimetype": "text/x-python",
   "name": "python",
   "nbconvert_exporter": "python",
   "pygments_lexer": "ipython3",
   "version": "3.6.5"
  }
 },
 "nbformat": 4,
 "nbformat_minor": 2
}
