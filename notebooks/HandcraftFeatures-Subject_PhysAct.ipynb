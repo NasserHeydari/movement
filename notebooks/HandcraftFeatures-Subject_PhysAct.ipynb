{
 "cells": [
  {
   "cell_type": "markdown",
   "metadata": {},
   "source": [
    "## Handcraft Features, 3 Physical Activity Classes, TTS by Subject\n",
    "\n",
    "This notebook runs different ML models using the mean, st.dev., and range of the x,y,z accelerometer and gyroscope measurements for each sample (window of 2 secs.).\n",
    "\n",
    "The test/train split is by subject."
   ]
  },
  {
   "cell_type": "code",
   "execution_count": 15,
   "metadata": {},
   "outputs": [],
   "source": [
    "import numpy as np\n",
    "import pandas as pd\n",
    "import matplotlib.pyplot as plt\n",
    "%matplotlib inline\n",
    "import seaborn as sns\n",
    "import pickle"
   ]
  },
  {
   "cell_type": "code",
   "execution_count": 2,
   "metadata": {},
   "outputs": [],
   "source": [
    "# read clean model data (10 subjects)\n",
    "thigh100 = pd.read_pickle('./data/thigh_clean.pkl')"
   ]
  },
  {
   "cell_type": "code",
   "execution_count": 3,
   "metadata": {},
   "outputs": [
    {
     "data": {
      "text/html": [
       "<div>\n",
       "<style scoped>\n",
       "    .dataframe tbody tr th:only-of-type {\n",
       "        vertical-align: middle;\n",
       "    }\n",
       "\n",
       "    .dataframe tbody tr th {\n",
       "        vertical-align: top;\n",
       "    }\n",
       "\n",
       "    .dataframe thead th {\n",
       "        text-align: right;\n",
       "    }\n",
       "</style>\n",
       "<table border=\"1\" class=\"dataframe\">\n",
       "  <thead>\n",
       "    <tr style=\"text-align: right;\">\n",
       "      <th></th>\n",
       "      <th>attr_time_gyr</th>\n",
       "      <th>attr_x_gyr</th>\n",
       "      <th>attr_y_gyr</th>\n",
       "      <th>attr_z_gyr</th>\n",
       "      <th>attr_time_acc</th>\n",
       "      <th>attr_x_acc</th>\n",
       "      <th>attr_y_acc</th>\n",
       "      <th>attr_z_acc</th>\n",
       "      <th>activity</th>\n",
       "      <th>label</th>\n",
       "      <th>subject</th>\n",
       "      <th>sample_num</th>\n",
       "    </tr>\n",
       "  </thead>\n",
       "  <tbody>\n",
       "    <tr>\n",
       "      <th>800</th>\n",
       "      <td>1435996984038</td>\n",
       "      <td>-0.786994</td>\n",
       "      <td>-0.328964</td>\n",
       "      <td>0.244081</td>\n",
       "      <td>1435996984038</td>\n",
       "      <td>0.469264</td>\n",
       "      <td>4.292205</td>\n",
       "      <td>1.912369</td>\n",
       "      <td>climbingdown</td>\n",
       "      <td>0</td>\n",
       "      <td>1</td>\n",
       "      <td>8</td>\n",
       "    </tr>\n",
       "    <tr>\n",
       "      <th>801</th>\n",
       "      <td>1435996984056</td>\n",
       "      <td>-0.539593</td>\n",
       "      <td>-0.340265</td>\n",
       "      <td>0.329907</td>\n",
       "      <td>1435996984056</td>\n",
       "      <td>0.769736</td>\n",
       "      <td>5.878364</td>\n",
       "      <td>2.906561</td>\n",
       "      <td>climbingdown</td>\n",
       "      <td>0</td>\n",
       "      <td>1</td>\n",
       "      <td>8</td>\n",
       "    </tr>\n",
       "    <tr>\n",
       "      <th>802</th>\n",
       "      <td>1435996984076</td>\n",
       "      <td>-0.334953</td>\n",
       "      <td>-0.454802</td>\n",
       "      <td>0.377860</td>\n",
       "      <td>1435996984076</td>\n",
       "      <td>1.098939</td>\n",
       "      <td>7.167043</td>\n",
       "      <td>3.312977</td>\n",
       "      <td>climbingdown</td>\n",
       "      <td>0</td>\n",
       "      <td>1</td>\n",
       "      <td>8</td>\n",
       "    </tr>\n",
       "    <tr>\n",
       "      <th>803</th>\n",
       "      <td>1435996984099</td>\n",
       "      <td>-0.086331</td>\n",
       "      <td>-0.496036</td>\n",
       "      <td>0.339070</td>\n",
       "      <td>1435996984099</td>\n",
       "      <td>1.409586</td>\n",
       "      <td>6.937798</td>\n",
       "      <td>4.225766</td>\n",
       "      <td>climbingdown</td>\n",
       "      <td>0</td>\n",
       "      <td>1</td>\n",
       "      <td>8</td>\n",
       "    </tr>\n",
       "    <tr>\n",
       "      <th>804</th>\n",
       "      <td>1435996984118</td>\n",
       "      <td>0.157099</td>\n",
       "      <td>-0.525052</td>\n",
       "      <td>0.350982</td>\n",
       "      <td>1435996984118</td>\n",
       "      <td>1.442507</td>\n",
       "      <td>6.427235</td>\n",
       "      <td>5.054759</td>\n",
       "      <td>climbingdown</td>\n",
       "      <td>0</td>\n",
       "      <td>1</td>\n",
       "      <td>8</td>\n",
       "    </tr>\n",
       "  </tbody>\n",
       "</table>\n",
       "</div>"
      ],
      "text/plain": [
       "     attr_time_gyr  attr_x_gyr  attr_y_gyr  attr_z_gyr  attr_time_acc  \\\n",
       "800  1435996984038   -0.786994   -0.328964    0.244081  1435996984038   \n",
       "801  1435996984056   -0.539593   -0.340265    0.329907  1435996984056   \n",
       "802  1435996984076   -0.334953   -0.454802    0.377860  1435996984076   \n",
       "803  1435996984099   -0.086331   -0.496036    0.339070  1435996984099   \n",
       "804  1435996984118    0.157099   -0.525052    0.350982  1435996984118   \n",
       "\n",
       "     attr_x_acc  attr_y_acc  attr_z_acc      activity  label  subject  \\\n",
       "800    0.469264    4.292205    1.912369  climbingdown      0        1   \n",
       "801    0.769736    5.878364    2.906561  climbingdown      0        1   \n",
       "802    1.098939    7.167043    3.312977  climbingdown      0        1   \n",
       "803    1.409586    6.937798    4.225766  climbingdown      0        1   \n",
       "804    1.442507    6.427235    5.054759  climbingdown      0        1   \n",
       "\n",
       "     sample_num  \n",
       "800           8  \n",
       "801           8  \n",
       "802           8  \n",
       "803           8  \n",
       "804           8  "
      ]
     },
     "execution_count": 3,
     "metadata": {},
     "output_type": "execute_result"
    }
   ],
   "source": [
    "thigh100.head()"
   ]
  },
  {
   "cell_type": "code",
   "execution_count": 4,
   "metadata": {},
   "outputs": [
    {
     "data": {
      "text/plain": [
       "Index(['attr_time_gyr', 'attr_x_gyr', 'attr_y_gyr', 'attr_z_gyr',\n",
       "       'attr_time_acc', 'attr_x_acc', 'attr_y_acc', 'attr_z_acc', 'activity',\n",
       "       'label', 'subject', 'sample_num'],\n",
       "      dtype='object')"
      ]
     },
     "execution_count": 4,
     "metadata": {},
     "output_type": "execute_result"
    }
   ],
   "source": [
    "thigh100.columns"
   ]
  },
  {
   "cell_type": "code",
   "execution_count": 5,
   "metadata": {},
   "outputs": [],
   "source": [
    "def Range(x):\n",
    "    return x.max() - x.min()"
   ]
  },
  {
   "cell_type": "code",
   "execution_count": 6,
   "metadata": {},
   "outputs": [],
   "source": [
    "# calculate range, sd, mean for each sample of 100 obs (2 sec)\n",
    "ranges = thigh100.groupby(['activity','subject','sample_num']).apply(Range).add_prefix('range_')\n",
    "st_devs = thigh100.groupby(['activity','subject','sample_num']).std().add_prefix('std_')\n",
    "means = thigh100.groupby(['activity','subject','sample_num']).mean().add_prefix('mean_')"
   ]
  },
  {
   "cell_type": "code",
   "execution_count": 7,
   "metadata": {},
   "outputs": [
    {
     "data": {
      "text/html": [
       "<div>\n",
       "<style scoped>\n",
       "    .dataframe tbody tr th:only-of-type {\n",
       "        vertical-align: middle;\n",
       "    }\n",
       "\n",
       "    .dataframe tbody tr th {\n",
       "        vertical-align: top;\n",
       "    }\n",
       "\n",
       "    .dataframe thead th {\n",
       "        text-align: right;\n",
       "    }\n",
       "</style>\n",
       "<table border=\"1\" class=\"dataframe\">\n",
       "  <thead>\n",
       "    <tr style=\"text-align: right;\">\n",
       "      <th></th>\n",
       "      <th></th>\n",
       "      <th></th>\n",
       "      <th>mean_attr_time_gyr</th>\n",
       "      <th>mean_attr_x_gyr</th>\n",
       "      <th>mean_attr_y_gyr</th>\n",
       "      <th>mean_attr_z_gyr</th>\n",
       "      <th>mean_attr_time_acc</th>\n",
       "      <th>mean_attr_x_acc</th>\n",
       "      <th>mean_attr_y_acc</th>\n",
       "      <th>mean_attr_z_acc</th>\n",
       "      <th>mean_label</th>\n",
       "    </tr>\n",
       "    <tr>\n",
       "      <th>activity</th>\n",
       "      <th>subject</th>\n",
       "      <th>sample_num</th>\n",
       "      <th></th>\n",
       "      <th></th>\n",
       "      <th></th>\n",
       "      <th></th>\n",
       "      <th></th>\n",
       "      <th></th>\n",
       "      <th></th>\n",
       "      <th></th>\n",
       "      <th></th>\n",
       "    </tr>\n",
       "  </thead>\n",
       "  <tbody>\n",
       "    <tr>\n",
       "      <th rowspan=\"5\" valign=\"top\">climbingdown</th>\n",
       "      <th rowspan=\"5\" valign=\"top\">1</th>\n",
       "      <th>8</th>\n",
       "      <td>1.435997e+12</td>\n",
       "      <td>0.087604</td>\n",
       "      <td>-0.277429</td>\n",
       "      <td>0.141031</td>\n",
       "      <td>1.435997e+12</td>\n",
       "      <td>0.379439</td>\n",
       "      <td>9.024692</td>\n",
       "      <td>2.418964</td>\n",
       "      <td>0.0</td>\n",
       "    </tr>\n",
       "    <tr>\n",
       "      <th>9</th>\n",
       "      <td>1.435997e+12</td>\n",
       "      <td>-0.166086</td>\n",
       "      <td>-1.012663</td>\n",
       "      <td>-0.062882</td>\n",
       "      <td>1.435997e+12</td>\n",
       "      <td>0.155054</td>\n",
       "      <td>9.439451</td>\n",
       "      <td>1.640513</td>\n",
       "      <td>0.0</td>\n",
       "    </tr>\n",
       "    <tr>\n",
       "      <th>10</th>\n",
       "      <td>1.435997e+12</td>\n",
       "      <td>0.167801</td>\n",
       "      <td>-0.480547</td>\n",
       "      <td>0.051044</td>\n",
       "      <td>1.435997e+12</td>\n",
       "      <td>0.311127</td>\n",
       "      <td>8.968662</td>\n",
       "      <td>2.061090</td>\n",
       "      <td>0.0</td>\n",
       "    </tr>\n",
       "    <tr>\n",
       "      <th>11</th>\n",
       "      <td>1.435997e+12</td>\n",
       "      <td>-0.271014</td>\n",
       "      <td>-0.662130</td>\n",
       "      <td>-0.022941</td>\n",
       "      <td>1.435997e+12</td>\n",
       "      <td>0.001209</td>\n",
       "      <td>9.386025</td>\n",
       "      <td>1.909316</td>\n",
       "      <td>0.0</td>\n",
       "    </tr>\n",
       "    <tr>\n",
       "      <th>13</th>\n",
       "      <td>1.435997e+12</td>\n",
       "      <td>-0.047453</td>\n",
       "      <td>-0.292410</td>\n",
       "      <td>0.159689</td>\n",
       "      <td>1.435997e+12</td>\n",
       "      <td>0.445256</td>\n",
       "      <td>8.932270</td>\n",
       "      <td>2.273953</td>\n",
       "      <td>0.0</td>\n",
       "    </tr>\n",
       "  </tbody>\n",
       "</table>\n",
       "</div>"
      ],
      "text/plain": [
       "                                 mean_attr_time_gyr  mean_attr_x_gyr  \\\n",
       "activity     subject sample_num                                        \n",
       "climbingdown 1       8                 1.435997e+12         0.087604   \n",
       "                     9                 1.435997e+12        -0.166086   \n",
       "                     10                1.435997e+12         0.167801   \n",
       "                     11                1.435997e+12        -0.271014   \n",
       "                     13                1.435997e+12        -0.047453   \n",
       "\n",
       "                                 mean_attr_y_gyr  mean_attr_z_gyr  \\\n",
       "activity     subject sample_num                                     \n",
       "climbingdown 1       8                 -0.277429         0.141031   \n",
       "                     9                 -1.012663        -0.062882   \n",
       "                     10                -0.480547         0.051044   \n",
       "                     11                -0.662130        -0.022941   \n",
       "                     13                -0.292410         0.159689   \n",
       "\n",
       "                                 mean_attr_time_acc  mean_attr_x_acc  \\\n",
       "activity     subject sample_num                                        \n",
       "climbingdown 1       8                 1.435997e+12         0.379439   \n",
       "                     9                 1.435997e+12         0.155054   \n",
       "                     10                1.435997e+12         0.311127   \n",
       "                     11                1.435997e+12         0.001209   \n",
       "                     13                1.435997e+12         0.445256   \n",
       "\n",
       "                                 mean_attr_y_acc  mean_attr_z_acc  mean_label  \n",
       "activity     subject sample_num                                                \n",
       "climbingdown 1       8                  9.024692         2.418964         0.0  \n",
       "                     9                  9.439451         1.640513         0.0  \n",
       "                     10                 8.968662         2.061090         0.0  \n",
       "                     11                 9.386025         1.909316         0.0  \n",
       "                     13                 8.932270         2.273953         0.0  "
      ]
     },
     "execution_count": 7,
     "metadata": {},
     "output_type": "execute_result"
    }
   ],
   "source": [
    "means.head()"
   ]
  },
  {
   "cell_type": "code",
   "execution_count": 8,
   "metadata": {},
   "outputs": [],
   "source": [
    "# combine sd, mean, range into single summary dataset\n",
    "df = pd.concat([st_devs,means,ranges],axis=1)\n",
    "df.reset_index(inplace=True)"
   ]
  },
  {
   "cell_type": "code",
   "execution_count": 9,
   "metadata": {},
   "outputs": [
    {
     "data": {
      "text/html": [
       "<div>\n",
       "<style scoped>\n",
       "    .dataframe tbody tr th:only-of-type {\n",
       "        vertical-align: middle;\n",
       "    }\n",
       "\n",
       "    .dataframe tbody tr th {\n",
       "        vertical-align: top;\n",
       "    }\n",
       "\n",
       "    .dataframe thead th {\n",
       "        text-align: right;\n",
       "    }\n",
       "</style>\n",
       "<table border=\"1\" class=\"dataframe\">\n",
       "  <thead>\n",
       "    <tr style=\"text-align: right;\">\n",
       "      <th></th>\n",
       "      <th>activity</th>\n",
       "      <th>subject</th>\n",
       "      <th>sample_num</th>\n",
       "      <th>std_attr_time_gyr</th>\n",
       "      <th>std_attr_x_gyr</th>\n",
       "      <th>std_attr_y_gyr</th>\n",
       "      <th>std_attr_z_gyr</th>\n",
       "      <th>std_attr_time_acc</th>\n",
       "      <th>std_attr_x_acc</th>\n",
       "      <th>std_attr_y_acc</th>\n",
       "      <th>...</th>\n",
       "      <th>mean_label</th>\n",
       "      <th>range_attr_time_gyr</th>\n",
       "      <th>range_attr_x_gyr</th>\n",
       "      <th>range_attr_y_gyr</th>\n",
       "      <th>range_attr_z_gyr</th>\n",
       "      <th>range_attr_time_acc</th>\n",
       "      <th>range_attr_x_acc</th>\n",
       "      <th>range_attr_y_acc</th>\n",
       "      <th>range_attr_z_acc</th>\n",
       "      <th>range_label</th>\n",
       "    </tr>\n",
       "  </thead>\n",
       "  <tbody>\n",
       "    <tr>\n",
       "      <th>0</th>\n",
       "      <td>climbingdown</td>\n",
       "      <td>1</td>\n",
       "      <td>8</td>\n",
       "      <td>581.291714</td>\n",
       "      <td>0.942661</td>\n",
       "      <td>0.855090</td>\n",
       "      <td>0.374873</td>\n",
       "      <td>582.030385</td>\n",
       "      <td>1.470079</td>\n",
       "      <td>3.465349</td>\n",
       "      <td>...</td>\n",
       "      <td>0.0</td>\n",
       "      <td>1985.0</td>\n",
       "      <td>4.308738</td>\n",
       "      <td>5.279708</td>\n",
       "      <td>1.747991</td>\n",
       "      <td>1985.0</td>\n",
       "      <td>9.214684</td>\n",
       "      <td>15.316306</td>\n",
       "      <td>18.915391</td>\n",
       "      <td>0.0</td>\n",
       "    </tr>\n",
       "    <tr>\n",
       "      <th>1</th>\n",
       "      <td>climbingdown</td>\n",
       "      <td>1</td>\n",
       "      <td>9</td>\n",
       "      <td>579.635665</td>\n",
       "      <td>0.976116</td>\n",
       "      <td>0.803382</td>\n",
       "      <td>0.449999</td>\n",
       "      <td>579.373594</td>\n",
       "      <td>1.566840</td>\n",
       "      <td>3.024721</td>\n",
       "      <td>...</td>\n",
       "      <td>0.0</td>\n",
       "      <td>1981.0</td>\n",
       "      <td>4.679228</td>\n",
       "      <td>4.421137</td>\n",
       "      <td>2.178345</td>\n",
       "      <td>1982.0</td>\n",
       "      <td>7.890690</td>\n",
       "      <td>13.982736</td>\n",
       "      <td>21.457434</td>\n",
       "      <td>0.0</td>\n",
       "    </tr>\n",
       "    <tr>\n",
       "      <th>2</th>\n",
       "      <td>climbingdown</td>\n",
       "      <td>1</td>\n",
       "      <td>10</td>\n",
       "      <td>582.685275</td>\n",
       "      <td>0.995383</td>\n",
       "      <td>1.088734</td>\n",
       "      <td>0.458140</td>\n",
       "      <td>582.662663</td>\n",
       "      <td>2.012424</td>\n",
       "      <td>3.810429</td>\n",
       "      <td>...</td>\n",
       "      <td>0.0</td>\n",
       "      <td>2024.0</td>\n",
       "      <td>4.831944</td>\n",
       "      <td>7.441561</td>\n",
       "      <td>2.543032</td>\n",
       "      <td>2035.0</td>\n",
       "      <td>14.829087</td>\n",
       "      <td>15.386336</td>\n",
       "      <td>20.637421</td>\n",
       "      <td>0.0</td>\n",
       "    </tr>\n",
       "    <tr>\n",
       "      <th>3</th>\n",
       "      <td>climbingdown</td>\n",
       "      <td>1</td>\n",
       "      <td>11</td>\n",
       "      <td>580.331920</td>\n",
       "      <td>1.016299</td>\n",
       "      <td>1.113550</td>\n",
       "      <td>0.605436</td>\n",
       "      <td>581.116097</td>\n",
       "      <td>1.996506</td>\n",
       "      <td>3.389655</td>\n",
       "      <td>...</td>\n",
       "      <td>0.0</td>\n",
       "      <td>1959.0</td>\n",
       "      <td>4.633718</td>\n",
       "      <td>6.475477</td>\n",
       "      <td>2.649017</td>\n",
       "      <td>1969.0</td>\n",
       "      <td>11.089942</td>\n",
       "      <td>14.787786</td>\n",
       "      <td>16.913838</td>\n",
       "      <td>0.0</td>\n",
       "    </tr>\n",
       "    <tr>\n",
       "      <th>4</th>\n",
       "      <td>climbingdown</td>\n",
       "      <td>1</td>\n",
       "      <td>13</td>\n",
       "      <td>581.322631</td>\n",
       "      <td>1.065192</td>\n",
       "      <td>0.959656</td>\n",
       "      <td>0.362656</td>\n",
       "      <td>581.596644</td>\n",
       "      <td>1.581883</td>\n",
       "      <td>3.813839</td>\n",
       "      <td>...</td>\n",
       "      <td>0.0</td>\n",
       "      <td>1993.0</td>\n",
       "      <td>4.612033</td>\n",
       "      <td>8.074722</td>\n",
       "      <td>1.933694</td>\n",
       "      <td>1993.0</td>\n",
       "      <td>7.879318</td>\n",
       "      <td>15.717933</td>\n",
       "      <td>21.537640</td>\n",
       "      <td>0.0</td>\n",
       "    </tr>\n",
       "  </tbody>\n",
       "</table>\n",
       "<p>5 rows × 30 columns</p>\n",
       "</div>"
      ],
      "text/plain": [
       "       activity  subject  sample_num  std_attr_time_gyr  std_attr_x_gyr  \\\n",
       "0  climbingdown        1           8         581.291714        0.942661   \n",
       "1  climbingdown        1           9         579.635665        0.976116   \n",
       "2  climbingdown        1          10         582.685275        0.995383   \n",
       "3  climbingdown        1          11         580.331920        1.016299   \n",
       "4  climbingdown        1          13         581.322631        1.065192   \n",
       "\n",
       "   std_attr_y_gyr  std_attr_z_gyr  std_attr_time_acc  std_attr_x_acc  \\\n",
       "0        0.855090        0.374873         582.030385        1.470079   \n",
       "1        0.803382        0.449999         579.373594        1.566840   \n",
       "2        1.088734        0.458140         582.662663        2.012424   \n",
       "3        1.113550        0.605436         581.116097        1.996506   \n",
       "4        0.959656        0.362656         581.596644        1.581883   \n",
       "\n",
       "   std_attr_y_acc  ...  mean_label  range_attr_time_gyr  range_attr_x_gyr  \\\n",
       "0        3.465349  ...         0.0               1985.0          4.308738   \n",
       "1        3.024721  ...         0.0               1981.0          4.679228   \n",
       "2        3.810429  ...         0.0               2024.0          4.831944   \n",
       "3        3.389655  ...         0.0               1959.0          4.633718   \n",
       "4        3.813839  ...         0.0               1993.0          4.612033   \n",
       "\n",
       "   range_attr_y_gyr  range_attr_z_gyr  range_attr_time_acc  range_attr_x_acc  \\\n",
       "0          5.279708          1.747991               1985.0          9.214684   \n",
       "1          4.421137          2.178345               1982.0          7.890690   \n",
       "2          7.441561          2.543032               2035.0         14.829087   \n",
       "3          6.475477          2.649017               1969.0         11.089942   \n",
       "4          8.074722          1.933694               1993.0          7.879318   \n",
       "\n",
       "   range_attr_y_acc  range_attr_z_acc  range_label  \n",
       "0         15.316306         18.915391          0.0  \n",
       "1         13.982736         21.457434          0.0  \n",
       "2         15.386336         20.637421          0.0  \n",
       "3         14.787786         16.913838          0.0  \n",
       "4         15.717933         21.537640          0.0  \n",
       "\n",
       "[5 rows x 30 columns]"
      ]
     },
     "execution_count": 9,
     "metadata": {},
     "output_type": "execute_result"
    }
   ],
   "source": [
    "df.head()"
   ]
  },
  {
   "cell_type": "code",
   "execution_count": 10,
   "metadata": {},
   "outputs": [
    {
     "data": {
      "text/plain": [
       "Index(['activity', 'subject', 'sample_num', 'std_attr_time_gyr',\n",
       "       'std_attr_x_gyr', 'std_attr_y_gyr', 'std_attr_z_gyr',\n",
       "       'std_attr_time_acc', 'std_attr_x_acc', 'std_attr_y_acc',\n",
       "       'std_attr_z_acc', 'std_label', 'mean_attr_time_gyr', 'mean_attr_x_gyr',\n",
       "       'mean_attr_y_gyr', 'mean_attr_z_gyr', 'mean_attr_time_acc',\n",
       "       'mean_attr_x_acc', 'mean_attr_y_acc', 'mean_attr_z_acc', 'mean_label',\n",
       "       'range_attr_time_gyr', 'range_attr_x_gyr', 'range_attr_y_gyr',\n",
       "       'range_attr_z_gyr', 'range_attr_time_acc', 'range_attr_x_acc',\n",
       "       'range_attr_y_acc', 'range_attr_z_acc', 'range_label'],\n",
       "      dtype='object')"
      ]
     },
     "execution_count": 10,
     "metadata": {},
     "output_type": "execute_result"
    }
   ],
   "source": [
    "df.columns"
   ]
  },
  {
   "cell_type": "code",
   "execution_count": 11,
   "metadata": {},
   "outputs": [
    {
     "data": {
      "text/plain": [
       "sitting         3182\n",
       "standing        3163\n",
       "walking         3146\n",
       "lying           3118\n",
       "climbingup      2484\n",
       "running         2370\n",
       "climbingdown    2114\n",
       "jumping          247\n",
       "Name: activity, dtype: int64"
      ]
     },
     "execution_count": 11,
     "metadata": {},
     "output_type": "execute_result"
    }
   ],
   "source": [
    "df.activity.value_counts()"
   ]
  },
  {
   "cell_type": "code",
   "execution_count": 12,
   "metadata": {},
   "outputs": [],
   "source": [
    "# recode pa as 3 classes of activity\n",
    "df['pa']=df.activity.replace({'sitting':'0_sedentary','standing':'0_sedentary','walking':'1_light_moderate','lying':'0_sedentary',\n",
    "                              'climbingup':'1_light_moderate','running':'2_vigorous','climbingdown':'1_light_moderate','jumping':'2_vigorous'})"
   ]
  },
  {
   "cell_type": "code",
   "execution_count": 13,
   "metadata": {},
   "outputs": [
    {
     "data": {
      "text/plain": [
       "0_sedentary         9463\n",
       "1_light_moderate    7744\n",
       "2_vigorous          2617\n",
       "Name: pa, dtype: int64"
      ]
     },
     "execution_count": 13,
     "metadata": {},
     "output_type": "execute_result"
    }
   ],
   "source": [
    "df.pa.value_counts()"
   ]
  },
  {
   "cell_type": "markdown",
   "metadata": {},
   "source": [
    "## Plot Features by PA Classes"
   ]
  },
  {
   "cell_type": "code",
   "execution_count": 17,
   "metadata": {
    "scrolled": true
   },
   "outputs": [
    {
     "data": {
      "image/png": "[encoded data removed]",
      "text/plain": [
       "<Figure size 720x576 with 1 Axes>"
      ]
     },
     "metadata": {
      "needs_background": "light"
     },
     "output_type": "display_data"
    },
    {
     "data": {
      "image/png": "[encoded data removed]",
      "text/plain": [
       "<Figure size 720x576 with 1 Axes>"
      ]
     },
     "metadata": {
      "needs_background": "light"
     },
     "output_type": "display_data"
    },
    {
     "data": {
      "image/png": "[encoded data removed]",
      "text/plain": [
       "<Figure size 720x576 with 1 Axes>"
      ]
     },
     "metadata": {
      "needs_background": "light"
     },
     "output_type": "display_data"
    },
    {
     "data": {
      "image/png": "[encoded data removed]",
      "text/plain": [
       "<Figure size 720x576 with 1 Axes>"
      ]
     },
     "metadata": {
      "needs_background": "light"
     },
     "output_type": "display_data"
    },
    {
     "data": {
      "image/png": "[encoded data removed]",
      "text/plain": [
       "<Figure size 720x576 with 1 Axes>"
      ]
     },
     "metadata": {
      "needs_background": "light"
     },
     "output_type": "display_data"
    },
    {
     "data": {
      "image/png": "[encoded data removed]",
      "text/plain": [
       "<Figure size 720x576 with 1 Axes>"
      ]
     },
     "metadata": {
      "needs_background": "light"
     },
     "output_type": "display_data"
    },
    {
     "data": {
      "image/png": "[encoded data removed]",
      "text/plain": [
       "<Figure size 720x576 with 1 Axes>"
      ]
     },
     "metadata": {
      "needs_background": "light"
     },
     "output_type": "display_data"
    },
    {
     "data": {
      "image/png": "[encoded data removed]",
      "text/plain": [
       "<Figure size 720x576 with 1 Axes>"
      ]
     },
     "metadata": {
      "needs_background": "light"
     },
     "output_type": "display_data"
    },
    {
     "data": {
      "image/png": "[encoded data removed]",
      "text/plain": [
       "<Figure size 720x576 with 1 Axes>"
      ]
     },
     "metadata": {
      "needs_background": "light"
     },
     "output_type": "display_data"
    },
    {
     "data": {
      "image/png": "[encoded data removed]",
      "text/plain": [
       "<Figure size 720x576 with 1 Axes>"
      ]
     },
     "metadata": {
      "needs_background": "light"
     },
     "output_type": "display_data"
    },
    {
     "data": {
      "image/png": "[encoded data removed]",
      "text/plain": [
       "<Figure size 720x576 with 1 Axes>"
      ]
     },
     "metadata": {
      "needs_background": "light"
     },
     "output_type": "display_data"
    },
    {
     "data": {
      "image/png": "[encoded data removed]",
      "text/plain": [
       "<Figure size 720x576 with 1 Axes>"
      ]
     },
     "metadata": {
      "needs_background": "light"
     },
     "output_type": "display_data"
    },
    {
     "data": {
      "image/png": "[encoded data removed]",
      "text/plain": [
       "<Figure size 720x576 with 1 Axes>"
      ]
     },
     "metadata": {
      "needs_background": "light"
     },
     "output_type": "display_data"
    },
    {
     "data": {
      "image/png": "[encoded data removed]",
      "text/plain": [
       "<Figure size 720x576 with 1 Axes>"
      ]
     },
     "metadata": {
      "needs_background": "light"
     },
     "output_type": "display_data"
    },
    {
     "data": {
      "image/png": "[encoded data removed]",
      "text/plain": [
       "<Figure size 720x576 with 1 Axes>"
      ]
     },
     "metadata": {
      "needs_background": "light"
     },
     "output_type": "display_data"
    },
    {
     "data": {
      "image/png": "[encoded data removed]",
      "text/plain": [
       "<Figure size 720x576 with 1 Axes>"
      ]
     },
     "metadata": {
      "needs_background": "light"
     },
     "output_type": "display_data"
    },
    {
     "data": {
      "image/png": "[encoded data removed]",
      "text/plain": [
       "<Figure size 720x576 with 1 Axes>"
      ]
     },
     "metadata": {
      "needs_background": "light"
     },
     "output_type": "display_data"
    },
    {
     "data": {
      "image/png": "[encoded data removed]",
      "text/plain": [
       "<Figure size 720x576 with 1 Axes>"
      ]
     },
     "metadata": {
      "needs_background": "light"
     },
     "output_type": "display_data"
    }
   ],
   "source": [
    "columns=['std_attr_x_gyr', 'std_attr_y_gyr', 'std_attr_z_gyr',\n",
    "         'std_attr_x_acc', 'std_attr_y_acc', 'std_attr_z_acc', \n",
    "         'mean_attr_x_gyr', 'mean_attr_y_gyr', 'mean_attr_z_gyr', \n",
    "         'mean_attr_x_acc', 'mean_attr_y_acc', 'mean_attr_z_acc',\n",
    "         'range_attr_x_gyr', 'range_attr_y_gyr','range_attr_z_gyr', \n",
    "         'range_attr_x_acc', 'range_attr_y_acc', 'range_attr_z_acc']\n",
    "for feature in columns:\n",
    "    plt.figure(figsize=(10,8))\n",
    "    sns.boxplot(x='pa', y=feature,data=df, showfliers=False, saturation=1)\n",
    "    plt.ylabel(feature)\n",
    "    plt.xticks(rotation=90)\n",
    "    plt.show()"
   ]
  },
  {
   "cell_type": "markdown",
   "metadata": {},
   "source": [
    "## Train / Test Split by Subject"
   ]
  },
  {
   "cell_type": "code",
   "execution_count": 59,
   "metadata": {},
   "outputs": [],
   "source": [
    "columns=[\n",
    "       'std_attr_x_gyr', 'std_attr_y_gyr', 'std_attr_z_gyr',\n",
    "         'std_attr_x_acc', 'std_attr_y_acc', 'std_attr_z_acc', \n",
    "         'mean_attr_x_gyr', 'mean_attr_y_gyr', 'mean_attr_z_gyr', \n",
    "         'mean_attr_x_acc', 'mean_attr_y_acc', 'mean_attr_z_acc',\n",
    "         'range_attr_x_gyr', 'range_attr_y_gyr','range_attr_z_gyr', \n",
    "         'range_attr_x_acc', 'range_attr_y_acc', 'range_attr_z_acc']\n",
    "# create x and y for train and test\n",
    "train_mask = df.subject <= 7\n",
    "test_mask = df.subject >= 8\n",
    "X_train = df[columns][train_mask]\n",
    "X_test = df[columns][test_mask]\n",
    "y_train = df.pa[train_mask]\n",
    "y_test = df.pa[test_mask]"
   ]
  },
  {
   "cell_type": "code",
   "execution_count": 20,
   "metadata": {},
   "outputs": [],
   "source": [
    "from sklearn.preprocessing import StandardScaler\n",
    "sc = StandardScaler()\n",
    "X_train = sc.fit_transform(X_train)\n",
    "X_test = sc.transform(X_test)"
   ]
  },
  {
   "cell_type": "code",
   "execution_count": 21,
   "metadata": {},
   "outputs": [
    {
     "data": {
      "text/plain": [
       "(13573, 12)"
      ]
     },
     "execution_count": 21,
     "metadata": {},
     "output_type": "execute_result"
    }
   ],
   "source": [
    "X_train.shape"
   ]
  },
  {
   "cell_type": "code",
   "execution_count": 22,
   "metadata": {},
   "outputs": [
    {
     "data": {
      "text/plain": [
       "(13573,)"
      ]
     },
     "execution_count": 22,
     "metadata": {},
     "output_type": "execute_result"
    }
   ],
   "source": [
    "y_train.shape"
   ]
  },
  {
   "cell_type": "markdown",
   "metadata": {},
   "source": [
    "## Try fitting a whole bunch of models (logistic regression, KNN, decision trees, SVM, Naive Bayes, XGBoost)"
   ]
  },
  {
   "cell_type": "code",
   "execution_count": 23,
   "metadata": {},
   "outputs": [],
   "source": [
    "from xgboost import XGBClassifier\n",
    "from statsmodels.api import add_constant,MNLogit\n",
    "from sklearn.linear_model import LogisticRegression\n",
    "from sklearn.neighbors import KNeighborsClassifier\n",
    "from sklearn.model_selection import train_test_split,cross_val_score, GridSearchCV\n",
    "from sklearn.ensemble import BaggingClassifier,RandomForestClassifier,ExtraTreesClassifier,AdaBoostClassifier,GradientBoostingClassifier\n",
    "from sklearn.tree import DecisionTreeClassifier\n",
    "from sklearn.metrics import f1_score,accuracy_score\n",
    "from sklearn import svm\n",
    "from sklearn.naive_bayes import MultinomialNB,GaussianNB"
   ]
  },
  {
   "cell_type": "code",
   "execution_count": 24,
   "metadata": {},
   "outputs": [],
   "source": [
    "def fit_model(model):\n",
    "    model.fit(X_train,y_train)\n",
    "    y_pred_train = model.predict(X_train)\n",
    "    y_pred_test = model.predict(X_test)\n",
    "    print(f'Training F1 score is: {f1_score(y_train,y_pred_train,average=\"macro\"):.3f}')\n",
    "    print(f'Testing F1 score is: {f1_score(y_test,y_pred_test,average=\"macro\"):.3f}')\n",
    "    print(f'Training Acc score is: {accuracy_score(y_train,y_pred_train):.3f}')\n",
    "    print(f'Testing Acc score is: {accuracy_score(y_test,y_pred_test):.3f}') "
   ]
  },
  {
   "cell_type": "code",
   "execution_count": 51,
   "metadata": {},
   "outputs": [
    {
     "name": "stderr",
     "output_type": "stream",
     "text": [
      "C:\\Users\\pauls\\.conda\\envs\\dsi\\lib\\site-packages\\sklearn\\linear_model\\logistic.py:947: ConvergenceWarning: lbfgs failed to converge. Increase the number of iterations.\n",
      "  \"of iterations.\", ConvergenceWarning)\n"
     ]
    },
    {
     "name": "stdout",
     "output_type": "stream",
     "text": [
      "Training F1 score is: 0.996\n",
      "Testing F1 score is: 0.956\n",
      "Training Acc score is: 0.997\n",
      "Testing Acc score is: 0.973\n"
     ]
    }
   ],
   "source": [
    "model = LogisticRegression(solver='lbfgs',multi_class='multinomial')\n",
    "fit_model(model)"
   ]
  },
  {
   "cell_type": "code",
   "execution_count": 31,
   "metadata": {},
   "outputs": [
    {
     "name": "stdout",
     "output_type": "stream",
     "text": [
      "Training F1 score is: 0.997\n",
      "Testing F1 score is: 0.923\n",
      "Training Acc score is: 0.998\n",
      "Testing Acc score is: 0.954\n"
     ]
    }
   ],
   "source": [
    "model = KNeighborsClassifier(n_neighbors=3)\n",
    "fit_model(model)"
   ]
  },
  {
   "cell_type": "code",
   "execution_count": 32,
   "metadata": {},
   "outputs": [
    {
     "name": "stdout",
     "output_type": "stream",
     "text": [
      "Training F1 score is: 1.000\n",
      "Testing F1 score is: 0.931\n",
      "Training Acc score is: 1.000\n",
      "Testing Acc score is: 0.958\n"
     ]
    }
   ],
   "source": [
    "model = DecisionTreeClassifier(max_depth=22)\n",
    "fit_model(model)"
   ]
  },
  {
   "cell_type": "code",
   "execution_count": 33,
   "metadata": {},
   "outputs": [
    {
     "name": "stdout",
     "output_type": "stream",
     "text": [
      "Training F1 score is: 1.000\n",
      "Testing F1 score is: 0.934\n",
      "Training Acc score is: 1.000\n",
      "Testing Acc score is: 0.961\n"
     ]
    }
   ],
   "source": [
    "model = BaggingClassifier(max_features=.8,max_samples=1.0,n_estimators=100,random_state=42)\n",
    "fit_model(model)"
   ]
  },
  {
   "cell_type": "code",
   "execution_count": 34,
   "metadata": {},
   "outputs": [
    {
     "name": "stdout",
     "output_type": "stream",
     "text": [
      "Training F1 score is: 1.000\n",
      "Testing F1 score is: 0.934\n",
      "Training Acc score is: 1.000\n",
      "Testing Acc score is: 0.961\n"
     ]
    }
   ],
   "source": [
    "model = RandomForestClassifier(max_depth=20,random_state=42,min_samples_leaf=1,n_estimators=100)\n",
    "fit_model(model)"
   ]
  },
  {
   "cell_type": "code",
   "execution_count": 35,
   "metadata": {},
   "outputs": [
    {
     "name": "stdout",
     "output_type": "stream",
     "text": [
      "Training F1 score is: 1.000\n",
      "Testing F1 score is: 0.934\n",
      "Training Acc score is: 1.000\n",
      "Testing Acc score is: 0.961\n"
     ]
    }
   ],
   "source": [
    "model = ExtraTreesClassifier(max_depth=20,max_leaf_nodes=None,n_estimators=100)\n",
    "fit_model(model)"
   ]
  },
  {
   "cell_type": "code",
   "execution_count": 36,
   "metadata": {},
   "outputs": [
    {
     "name": "stdout",
     "output_type": "stream",
     "text": [
      "Training F1 score is: 1.000\n",
      "Testing F1 score is: 0.914\n",
      "Training Acc score is: 1.000\n",
      "Testing Acc score is: 0.947\n"
     ]
    }
   ],
   "source": [
    "model = AdaBoostClassifier(DecisionTreeClassifier(max_depth=20,random_state=42),learning_rate=1.0,random_state=42)\n",
    "fit_model(model)"
   ]
  },
  {
   "cell_type": "code",
   "execution_count": 37,
   "metadata": {},
   "outputs": [
    {
     "name": "stdout",
     "output_type": "stream",
     "text": [
      "Training F1 score is: 0.997\n",
      "Testing F1 score is: 0.936\n",
      "Training Acc score is: 0.998\n",
      "Testing Acc score is: 0.961\n"
     ]
    }
   ],
   "source": [
    "model = svm.SVC(kernel='poly',gamma='scale',C=1.0)\n",
    "fit_model(model)"
   ]
  },
  {
   "cell_type": "code",
   "execution_count": 38,
   "metadata": {},
   "outputs": [
    {
     "name": "stdout",
     "output_type": "stream",
     "text": [
      "Training F1 score is: 0.965\n",
      "Testing F1 score is: 0.886\n",
      "Training Acc score is: 0.975\n",
      "Testing Acc score is: 0.925\n"
     ]
    }
   ],
   "source": [
    "model = GaussianNB()\n",
    "fit_model(model)"
   ]
  },
  {
   "cell_type": "code",
   "execution_count": 39,
   "metadata": {},
   "outputs": [
    {
     "name": "stdout",
     "output_type": "stream",
     "text": [
      "Training F1 score is: 1.000\n",
      "Testing F1 score is: 0.940\n",
      "Training Acc score is: 1.000\n",
      "Testing Acc score is: 0.964\n"
     ]
    }
   ],
   "source": [
    "model = XGBClassifier(max_depth=4,random_state=42)\n",
    "fit_model(model)"
   ]
  },
  {
   "cell_type": "markdown",
   "metadata": {},
   "source": [
    "## Examine logistic regression coefficients using statsmodels MNLogit"
   ]
  },
  {
   "cell_type": "code",
   "execution_count": 93,
   "metadata": {},
   "outputs": [
    {
     "name": "stderr",
     "output_type": "stream",
     "text": [
      "C:\\Users\\pauls\\.conda\\envs\\dsi\\lib\\site-packages\\numpy\\core\\fromnumeric.py:2389: FutureWarning: Method .ptp is deprecated and will be removed in a future version. Use numpy.ptp instead.\n",
      "  return ptp(axis=axis, out=out, **kwargs)\n"
     ]
    }
   ],
   "source": [
    "# create X and y using all 10 subjects\n",
    "y = df.pa\n",
    "columns=['std_attr_x_gyr', 'std_attr_y_gyr', 'std_attr_z_gyr',\n",
    "         'std_attr_x_acc', 'std_attr_y_acc', 'std_attr_z_acc', \n",
    "         'mean_attr_x_gyr', 'mean_attr_y_gyr', 'mean_attr_z_gyr', \n",
    "         'mean_attr_x_acc', 'mean_attr_y_acc', 'mean_attr_z_acc']\n",
    "X = df[columns]\n",
    "X = add_constant(X)"
   ]
  },
  {
   "cell_type": "code",
   "execution_count": 94,
   "metadata": {},
   "outputs": [
    {
     "data": {
      "text/plain": [
       "(19824, 13)"
      ]
     },
     "execution_count": 94,
     "metadata": {},
     "output_type": "execute_result"
    }
   ],
   "source": [
    "X.shape"
   ]
  },
  {
   "cell_type": "code",
   "execution_count": 95,
   "metadata": {
    "scrolled": true
   },
   "outputs": [
    {
     "data": {
      "text/plain": [
       "(19824,)"
      ]
     },
     "execution_count": 95,
     "metadata": {},
     "output_type": "execute_result"
    }
   ],
   "source": [
    "y.shape"
   ]
  },
  {
   "cell_type": "code",
   "execution_count": 96,
   "metadata": {},
   "outputs": [
    {
     "data": {
      "image/png": "[encoded data removed]",
      "text/plain": [
       "<Figure size 936x648 with 2 Axes>"
      ]
     },
     "metadata": {
      "needs_background": "light"
     },
     "output_type": "display_data"
    }
   ],
   "source": [
    "# plot correlation coefficients\n",
    "import seaborn as sns\n",
    "# source: https://seaborn.pydata.org/examples/many_pairwise_correlations.html\n",
    "# Compute the correlation matrix\n",
    "X = df[columns]\n",
    "corr = X.corr()\n",
    "\n",
    "# Generate a mask for the upper triangle\n",
    "mask = np.zeros_like(corr, dtype=np.bool)\n",
    "mask[np.triu_indices_from(mask)] = True\n",
    "\n",
    "# Set up the matplotlib figure\n",
    "f, ax = plt.subplots(figsize=(13, 9))\n",
    "\n",
    "# Generate a custom diverging colormap\n",
    "cmap = sns.diverging_palette(220, 10, as_cmap=True)\n",
    "\n",
    "# Draw the heatmap with the mask and correct aspect ratio\n",
    "sns.heatmap(corr, mask=mask, cmap=cmap, center=0,annot=True,\n",
    "            square=True, linewidths=.5, cbar_kws={\"shrink\": .5});"
   ]
  },
  {
   "cell_type": "code",
   "execution_count": 97,
   "metadata": {},
   "outputs": [
    {
     "name": "stdout",
     "output_type": "stream",
     "text": [
      "Optimization terminated successfully.\n",
      "         Current function value: 0.012699\n",
      "         Iterations: 273\n",
      "         Function evaluations: 275\n",
      "         Gradient evaluations: 275\n"
     ]
    }
   ],
   "source": [
    "smodel = MNLogit(y,X)\n",
    "\n",
    "model_fitted=smodel.fit(method='bfgs',maxiter=5000)._results"
   ]
  },
  {
   "cell_type": "code",
   "execution_count": 98,
   "metadata": {
    "scrolled": true
   },
   "outputs": [
    {
     "data": {
      "text/html": [
       "<table class=\"simpletable\">\n",
       "<caption>MNLogit Regression Results</caption>\n",
       "<tr>\n",
       "  <th>Dep. Variable:</th>        <td>pa</td>        <th>  No. Observations:  </th>  <td> 19824</td> \n",
       "</tr>\n",
       "<tr>\n",
       "  <th>Model:</th>              <td>MNLogit</td>     <th>  Df Residuals:      </th>  <td> 19800</td> \n",
       "</tr>\n",
       "<tr>\n",
       "  <th>Method:</th>               <td>MLE</td>       <th>  Df Model:          </th>  <td>    22</td> \n",
       "</tr>\n",
       "<tr>\n",
       "  <th>Date:</th>          <td>Mon, 27 May 2019</td> <th>  Pseudo R-squ.:     </th>  <td>0.9871</td> \n",
       "</tr>\n",
       "<tr>\n",
       "  <th>Time:</th>              <td>20:47:43</td>     <th>  Log-Likelihood:    </th> <td> -251.74</td>\n",
       "</tr>\n",
       "<tr>\n",
       "  <th>converged:</th>           <td>True</td>       <th>  LL-Null:           </th> <td> -19576.</td>\n",
       "</tr>\n",
       "<tr>\n",
       "  <th> </th>                      <td> </td>        <th>  LLR p-value:       </th>  <td> 0.000</td> \n",
       "</tr>\n",
       "</table>\n",
       "<table class=\"simpletable\">\n",
       "<tr>\n",
       "  <th>pa=1_light_moderate</th>    <th>coef</th>     <th>std err</th>      <th>z</th>      <th>P>|z|</th>  <th>[0.025</th>    <th>0.975]</th>  \n",
       "</tr>\n",
       "<tr>\n",
       "  <th>std_attr_x_gyr</th>      <td>    4.1231</td> <td>    1.890</td> <td>    2.182</td> <td> 0.029</td> <td>    0.420</td> <td>    7.827</td>\n",
       "</tr>\n",
       "<tr>\n",
       "  <th>std_attr_y_gyr</th>      <td>   -4.0160</td> <td>    1.537</td> <td>   -2.613</td> <td> 0.009</td> <td>   -7.028</td> <td>   -1.004</td>\n",
       "</tr>\n",
       "<tr>\n",
       "  <th>std_attr_z_gyr</th>      <td>   13.5420</td> <td>    2.962</td> <td>    4.572</td> <td> 0.000</td> <td>    7.737</td> <td>   19.347</td>\n",
       "</tr>\n",
       "<tr>\n",
       "  <th>std_attr_x_acc</th>      <td>    6.8555</td> <td>    1.345</td> <td>    5.095</td> <td> 0.000</td> <td>    4.219</td> <td>    9.493</td>\n",
       "</tr>\n",
       "<tr>\n",
       "  <th>std_attr_y_acc</th>      <td>    5.7115</td> <td>    1.064</td> <td>    5.366</td> <td> 0.000</td> <td>    3.625</td> <td>    7.798</td>\n",
       "</tr>\n",
       "<tr>\n",
       "  <th>std_attr_z_acc</th>      <td>   -2.8522</td> <td>    1.039</td> <td>   -2.746</td> <td> 0.006</td> <td>   -4.888</td> <td>   -0.817</td>\n",
       "</tr>\n",
       "<tr>\n",
       "  <th>mean_attr_x_gyr</th>     <td>   -6.2494</td> <td>    2.312</td> <td>   -2.703</td> <td> 0.007</td> <td>  -10.780</td> <td>   -1.719</td>\n",
       "</tr>\n",
       "<tr>\n",
       "  <th>mean_attr_y_gyr</th>     <td>    3.0987</td> <td>    1.087</td> <td>    2.852</td> <td> 0.004</td> <td>    0.969</td> <td>    5.228</td>\n",
       "</tr>\n",
       "<tr>\n",
       "  <th>mean_attr_z_gyr</th>     <td>  -14.7084</td> <td>    3.883</td> <td>   -3.788</td> <td> 0.000</td> <td>  -22.318</td> <td>   -7.098</td>\n",
       "</tr>\n",
       "<tr>\n",
       "  <th>mean_attr_x_acc</th>     <td>    1.5936</td> <td>    0.184</td> <td>    8.644</td> <td> 0.000</td> <td>    1.232</td> <td>    1.955</td>\n",
       "</tr>\n",
       "<tr>\n",
       "  <th>mean_attr_y_acc</th>     <td>   -1.3913</td> <td>    0.154</td> <td>   -9.021</td> <td> 0.000</td> <td>   -1.694</td> <td>   -1.089</td>\n",
       "</tr>\n",
       "<tr>\n",
       "  <th>mean_attr_z_acc</th>     <td>   -2.4637</td> <td>    0.368</td> <td>   -6.687</td> <td> 0.000</td> <td>   -3.186</td> <td>   -1.742</td>\n",
       "</tr>\n",
       "<tr>\n",
       "   <th>pa=2_vigorous</th>     <th>coef</th>     <th>std err</th>      <th>z</th>      <th>P>|z|</th>  <th>[0.025</th>    <th>0.975]</th>  \n",
       "</tr>\n",
       "<tr>\n",
       "  <th>std_attr_x_gyr</th>  <td>    5.1043</td> <td>    1.959</td> <td>    2.605</td> <td> 0.009</td> <td>    1.264</td> <td>    8.944</td>\n",
       "</tr>\n",
       "<tr>\n",
       "  <th>std_attr_y_gyr</th>  <td>   -7.2961</td> <td>    1.588</td> <td>   -4.593</td> <td> 0.000</td> <td>  -10.409</td> <td>   -4.183</td>\n",
       "</tr>\n",
       "<tr>\n",
       "  <th>std_attr_z_gyr</th>  <td>   14.3945</td> <td>    3.045</td> <td>    4.727</td> <td> 0.000</td> <td>    8.426</td> <td>   20.363</td>\n",
       "</tr>\n",
       "<tr>\n",
       "  <th>std_attr_x_acc</th>  <td>    8.7537</td> <td>    1.377</td> <td>    6.357</td> <td> 0.000</td> <td>    6.055</td> <td>   11.453</td>\n",
       "</tr>\n",
       "<tr>\n",
       "  <th>std_attr_y_acc</th>  <td>    7.7875</td> <td>    1.069</td> <td>    7.283</td> <td> 0.000</td> <td>    5.692</td> <td>    9.883</td>\n",
       "</tr>\n",
       "<tr>\n",
       "  <th>std_attr_z_acc</th>  <td>   -2.3363</td> <td>    1.059</td> <td>   -2.205</td> <td> 0.027</td> <td>   -4.413</td> <td>   -0.260</td>\n",
       "</tr>\n",
       "<tr>\n",
       "  <th>mean_attr_x_gyr</th> <td>  -12.2039</td> <td>    2.456</td> <td>   -4.970</td> <td> 0.000</td> <td>  -17.017</td> <td>   -7.391</td>\n",
       "</tr>\n",
       "<tr>\n",
       "  <th>mean_attr_y_gyr</th> <td>    4.5136</td> <td>    1.249</td> <td>    3.615</td> <td> 0.000</td> <td>    2.066</td> <td>    6.961</td>\n",
       "</tr>\n",
       "<tr>\n",
       "  <th>mean_attr_z_gyr</th> <td>   -2.6456</td> <td>    4.111</td> <td>   -0.644</td> <td> 0.520</td> <td>  -10.702</td> <td>    5.411</td>\n",
       "</tr>\n",
       "<tr>\n",
       "  <th>mean_attr_x_acc</th> <td>    2.6324</td> <td>    0.190</td> <td>   13.888</td> <td> 0.000</td> <td>    2.261</td> <td>    3.004</td>\n",
       "</tr>\n",
       "<tr>\n",
       "  <th>mean_attr_y_acc</th> <td>   -4.0727</td> <td>    0.223</td> <td>  -18.263</td> <td> 0.000</td> <td>   -4.510</td> <td>   -3.636</td>\n",
       "</tr>\n",
       "<tr>\n",
       "  <th>mean_attr_z_acc</th> <td>   -4.9702</td> <td>    0.351</td> <td>  -14.144</td> <td> 0.000</td> <td>   -5.659</td> <td>   -4.281</td>\n",
       "</tr>\n",
       "</table>"
      ],
      "text/plain": [
       "<class 'statsmodels.iolib.summary.Summary'>\n",
       "\"\"\"\n",
       "                          MNLogit Regression Results                          \n",
       "==============================================================================\n",
       "Dep. Variable:                     pa   No. Observations:                19824\n",
       "Model:                        MNLogit   Df Residuals:                    19800\n",
       "Method:                           MLE   Df Model:                           22\n",
       "Date:                Mon, 27 May 2019   Pseudo R-squ.:                  0.9871\n",
       "Time:                        20:47:43   Log-Likelihood:                -251.74\n",
       "converged:                       True   LL-Null:                       -19576.\n",
       "                                        LLR p-value:                     0.000\n",
       "===================================================================================\n",
       "pa=1_light_moderate       coef    std err          z      P>|z|      [0.025      0.975]\n",
       "---------------------------------------------------------------------------------------\n",
       "std_attr_x_gyr          4.1231      1.890      2.182      0.029       0.420       7.827\n",
       "std_attr_y_gyr         -4.0160      1.537     -2.613      0.009      -7.028      -1.004\n",
       "std_attr_z_gyr         13.5420      2.962      4.572      0.000       7.737      19.347\n",
       "std_attr_x_acc          6.8555      1.345      5.095      0.000       4.219       9.493\n",
       "std_attr_y_acc          5.7115      1.064      5.366      0.000       3.625       7.798\n",
       "std_attr_z_acc         -2.8522      1.039     -2.746      0.006      -4.888      -0.817\n",
       "mean_attr_x_gyr        -6.2494      2.312     -2.703      0.007     -10.780      -1.719\n",
       "mean_attr_y_gyr         3.0987      1.087      2.852      0.004       0.969       5.228\n",
       "mean_attr_z_gyr       -14.7084      3.883     -3.788      0.000     -22.318      -7.098\n",
       "mean_attr_x_acc         1.5936      0.184      8.644      0.000       1.232       1.955\n",
       "mean_attr_y_acc        -1.3913      0.154     -9.021      0.000      -1.694      -1.089\n",
       "mean_attr_z_acc        -2.4637      0.368     -6.687      0.000      -3.186      -1.742\n",
       "---------------------------------------------------------------------------------------\n",
       "  pa=2_vigorous       coef    std err          z      P>|z|      [0.025      0.975]\n",
       "-----------------------------------------------------------------------------------\n",
       "std_attr_x_gyr      5.1043      1.959      2.605      0.009       1.264       8.944\n",
       "std_attr_y_gyr     -7.2961      1.588     -4.593      0.000     -10.409      -4.183\n",
       "std_attr_z_gyr     14.3945      3.045      4.727      0.000       8.426      20.363\n",
       "std_attr_x_acc      8.7537      1.377      6.357      0.000       6.055      11.453\n",
       "std_attr_y_acc      7.7875      1.069      7.283      0.000       5.692       9.883\n",
       "std_attr_z_acc     -2.3363      1.059     -2.205      0.027      -4.413      -0.260\n",
       "mean_attr_x_gyr   -12.2039      2.456     -4.970      0.000     -17.017      -7.391\n",
       "mean_attr_y_gyr     4.5136      1.249      3.615      0.000       2.066       6.961\n",
       "mean_attr_z_gyr    -2.6456      4.111     -0.644      0.520     -10.702       5.411\n",
       "mean_attr_x_acc     2.6324      0.190     13.888      0.000       2.261       3.004\n",
       "mean_attr_y_acc    -4.0727      0.223    -18.263      0.000      -4.510      -3.636\n",
       "mean_attr_z_acc    -4.9702      0.351    -14.144      0.000      -5.659      -4.281\n",
       "===================================================================================\n",
       "\"\"\""
      ]
     },
     "execution_count": 98,
     "metadata": {},
     "output_type": "execute_result"
    }
   ],
   "source": [
    "model_fitted.summary()"
   ]
  },
  {
   "cell_type": "markdown",
   "metadata": {},
   "source": [
    "### Model with subject dummies"
   ]
  },
  {
   "cell_type": "code",
   "execution_count": 99,
   "metadata": {},
   "outputs": [],
   "source": [
    "lr_data = pd.get_dummies(data=df,columns=['subject'],drop_first=True)\n",
    "columns=['std_attr_x_gyr', 'std_attr_y_gyr', 'std_attr_z_gyr',\n",
    "         'std_attr_x_acc', 'std_attr_y_acc', 'std_attr_z_acc', \n",
    "         'mean_attr_x_gyr', 'mean_attr_y_gyr', 'mean_attr_z_gyr', \n",
    "         'mean_attr_x_acc', 'mean_attr_y_acc', 'mean_attr_z_acc','subject_2',\n",
    "       'subject_3', 'subject_4', 'subject_5', 'subject_6', 'subject_7',\n",
    "       'subject_8', 'subject_9', 'subject_10']\n",
    "X = lr_data[columns]\n",
    "y = lr_data.pa\n",
    "\n",
    "X = add_constant(X)"
   ]
  },
  {
   "cell_type": "code",
   "execution_count": 100,
   "metadata": {},
   "outputs": [
    {
     "name": "stdout",
     "output_type": "stream",
     "text": [
      "Optimization terminated successfully.\n",
      "         Current function value: 0.003105\n",
      "         Iterations: 390\n",
      "         Function evaluations: 392\n",
      "         Gradient evaluations: 392\n"
     ]
    }
   ],
   "source": [
    "smodel = MNLogit(y,X)\n",
    "\n",
    "model_fitted=smodel.fit(method='bfgs',maxiter=5000)._results"
   ]
  },
  {
   "cell_type": "code",
   "execution_count": 101,
   "metadata": {},
   "outputs": [
    {
     "data": {
      "text/html": [
       "<table class=\"simpletable\">\n",
       "<caption>MNLogit Regression Results</caption>\n",
       "<tr>\n",
       "  <th>Dep. Variable:</th>        <td>pa</td>        <th>  No. Observations:  </th>  <td> 19824</td> \n",
       "</tr>\n",
       "<tr>\n",
       "  <th>Model:</th>              <td>MNLogit</td>     <th>  Df Residuals:      </th>  <td> 19780</td> \n",
       "</tr>\n",
       "<tr>\n",
       "  <th>Method:</th>               <td>MLE</td>       <th>  Df Model:          </th>  <td>    42</td> \n",
       "</tr>\n",
       "<tr>\n",
       "  <th>Date:</th>          <td>Mon, 27 May 2019</td> <th>  Pseudo R-squ.:     </th>  <td>0.9969</td> \n",
       "</tr>\n",
       "<tr>\n",
       "  <th>Time:</th>              <td>20:48:48</td>     <th>  Log-Likelihood:    </th> <td> -61.563</td>\n",
       "</tr>\n",
       "<tr>\n",
       "  <th>converged:</th>           <td>True</td>       <th>  LL-Null:           </th> <td> -19576.</td>\n",
       "</tr>\n",
       "<tr>\n",
       "  <th> </th>                      <td> </td>        <th>  LLR p-value:       </th>  <td> 0.000</td> \n",
       "</tr>\n",
       "</table>\n",
       "<table class=\"simpletable\">\n",
       "<tr>\n",
       "  <th>pa=1_light_moderate</th>    <th>coef</th>     <th>std err</th>      <th>z</th>      <th>P>|z|</th>  <th>[0.025</th>    <th>0.975]</th>  \n",
       "</tr>\n",
       "<tr>\n",
       "  <th>const</th>               <td>  -29.3131</td> <td>   14.767</td> <td>   -1.985</td> <td> 0.047</td> <td>  -58.256</td> <td>   -0.370</td>\n",
       "</tr>\n",
       "<tr>\n",
       "  <th>std_attr_x_gyr</th>      <td>   15.3094</td> <td>    8.118</td> <td>    1.886</td> <td> 0.059</td> <td>   -0.602</td> <td>   31.221</td>\n",
       "</tr>\n",
       "<tr>\n",
       "  <th>std_attr_y_gyr</th>      <td>    2.0725</td> <td>    3.244</td> <td>    0.639</td> <td> 0.523</td> <td>   -4.285</td> <td>    8.430</td>\n",
       "</tr>\n",
       "<tr>\n",
       "  <th>std_attr_z_gyr</th>      <td>    1.9385</td> <td>    7.905</td> <td>    0.245</td> <td> 0.806</td> <td>  -13.555</td> <td>   17.432</td>\n",
       "</tr>\n",
       "<tr>\n",
       "  <th>std_attr_x_acc</th>      <td>   12.9834</td> <td>    6.194</td> <td>    2.096</td> <td> 0.036</td> <td>    0.843</td> <td>   25.123</td>\n",
       "</tr>\n",
       "<tr>\n",
       "  <th>std_attr_y_acc</th>      <td>    5.8955</td> <td>    2.201</td> <td>    2.678</td> <td> 0.007</td> <td>    1.581</td> <td>   10.210</td>\n",
       "</tr>\n",
       "<tr>\n",
       "  <th>std_attr_z_acc</th>      <td>   -3.2283</td> <td>    1.973</td> <td>   -1.636</td> <td> 0.102</td> <td>   -7.095</td> <td>    0.639</td>\n",
       "</tr>\n",
       "<tr>\n",
       "  <th>mean_attr_x_gyr</th>     <td>   -6.2493</td> <td>    7.043</td> <td>   -0.887</td> <td> 0.375</td> <td>  -20.053</td> <td>    7.554</td>\n",
       "</tr>\n",
       "<tr>\n",
       "  <th>mean_attr_y_gyr</th>     <td>    3.0070</td> <td>    1.757</td> <td>    1.712</td> <td> 0.087</td> <td>   -0.436</td> <td>    6.450</td>\n",
       "</tr>\n",
       "<tr>\n",
       "  <th>mean_attr_z_gyr</th>     <td>  -10.1656</td> <td>    7.920</td> <td>   -1.284</td> <td> 0.199</td> <td>  -25.688</td> <td>    5.357</td>\n",
       "</tr>\n",
       "<tr>\n",
       "  <th>mean_attr_x_acc</th>     <td>    1.0391</td> <td>    1.248</td> <td>    0.833</td> <td> 0.405</td> <td>   -1.407</td> <td>    3.485</td>\n",
       "</tr>\n",
       "<tr>\n",
       "  <th>mean_attr_y_acc</th>     <td>    0.3165</td> <td>    1.251</td> <td>    0.253</td> <td> 0.800</td> <td>   -2.136</td> <td>    2.769</td>\n",
       "</tr>\n",
       "<tr>\n",
       "  <th>mean_attr_z_acc</th>     <td>    0.6128</td> <td>    0.835</td> <td>    0.734</td> <td> 0.463</td> <td>   -1.023</td> <td>    2.248</td>\n",
       "</tr>\n",
       "<tr>\n",
       "  <th>subject_2</th>           <td>   -3.1400</td> <td>   15.067</td> <td>   -0.208</td> <td> 0.835</td> <td>  -32.671</td> <td>   26.391</td>\n",
       "</tr>\n",
       "<tr>\n",
       "  <th>subject_3</th>           <td>   -5.7826</td> <td>    7.090</td> <td>   -0.816</td> <td> 0.415</td> <td>  -19.678</td> <td>    8.113</td>\n",
       "</tr>\n",
       "<tr>\n",
       "  <th>subject_4</th>           <td>   -5.5618</td> <td>    4.893</td> <td>   -1.137</td> <td> 0.256</td> <td>  -15.152</td> <td>    4.029</td>\n",
       "</tr>\n",
       "<tr>\n",
       "  <th>subject_5</th>           <td>   -9.5196</td> <td>    7.489</td> <td>   -1.271</td> <td> 0.204</td> <td>  -24.198</td> <td>    5.159</td>\n",
       "</tr>\n",
       "<tr>\n",
       "  <th>subject_6</th>           <td>    0.3596</td> <td>    5.916</td> <td>    0.061</td> <td> 0.952</td> <td>  -11.236</td> <td>   11.955</td>\n",
       "</tr>\n",
       "<tr>\n",
       "  <th>subject_7</th>           <td>   -9.0032</td> <td>    6.600</td> <td>   -1.364</td> <td> 0.173</td> <td>  -21.938</td> <td>    3.932</td>\n",
       "</tr>\n",
       "<tr>\n",
       "  <th>subject_8</th>           <td>    4.3868</td> <td>    5.038</td> <td>    0.871</td> <td> 0.384</td> <td>   -5.488</td> <td>   14.261</td>\n",
       "</tr>\n",
       "<tr>\n",
       "  <th>subject_9</th>           <td>    1.8105</td> <td>    7.128</td> <td>    0.254</td> <td> 0.799</td> <td>  -12.159</td> <td>   15.780</td>\n",
       "</tr>\n",
       "<tr>\n",
       "  <th>subject_10</th>          <td>    0.9043</td> <td>    4.117</td> <td>    0.220</td> <td> 0.826</td> <td>   -7.164</td> <td>    8.973</td>\n",
       "</tr>\n",
       "<tr>\n",
       "   <th>pa=2_vigorous</th>     <th>coef</th>     <th>std err</th>      <th>z</th>      <th>P>|z|</th>  <th>[0.025</th>    <th>0.975]</th>  \n",
       "</tr>\n",
       "<tr>\n",
       "  <th>const</th>           <td>  -23.7497</td> <td>   16.185</td> <td>   -1.467</td> <td> 0.142</td> <td>  -55.472</td> <td>    7.973</td>\n",
       "</tr>\n",
       "<tr>\n",
       "  <th>std_attr_x_gyr</th>  <td>   12.3390</td> <td>    8.328</td> <td>    1.482</td> <td> 0.138</td> <td>   -3.984</td> <td>   28.662</td>\n",
       "</tr>\n",
       "<tr>\n",
       "  <th>std_attr_y_gyr</th>  <td>    3.9805</td> <td>    3.396</td> <td>    1.172</td> <td> 0.241</td> <td>   -2.675</td> <td>   10.636</td>\n",
       "</tr>\n",
       "<tr>\n",
       "  <th>std_attr_z_gyr</th>  <td>    3.3111</td> <td>    8.084</td> <td>    0.410</td> <td> 0.682</td> <td>  -12.533</td> <td>   19.155</td>\n",
       "</tr>\n",
       "<tr>\n",
       "  <th>std_attr_x_acc</th>  <td>   15.9911</td> <td>    6.228</td> <td>    2.568</td> <td> 0.010</td> <td>    3.784</td> <td>   28.198</td>\n",
       "</tr>\n",
       "<tr>\n",
       "  <th>std_attr_y_acc</th>  <td>    8.5340</td> <td>    2.269</td> <td>    3.761</td> <td> 0.000</td> <td>    4.087</td> <td>   12.981</td>\n",
       "</tr>\n",
       "<tr>\n",
       "  <th>std_attr_z_acc</th>  <td>   -3.5004</td> <td>    2.074</td> <td>   -1.688</td> <td> 0.091</td> <td>   -7.565</td> <td>    0.565</td>\n",
       "</tr>\n",
       "<tr>\n",
       "  <th>mean_attr_x_gyr</th> <td>  -10.0612</td> <td>    7.389</td> <td>   -1.362</td> <td> 0.173</td> <td>  -24.543</td> <td>    4.420</td>\n",
       "</tr>\n",
       "<tr>\n",
       "  <th>mean_attr_y_gyr</th> <td>    4.4019</td> <td>    2.208</td> <td>    1.994</td> <td> 0.046</td> <td>    0.075</td> <td>    8.729</td>\n",
       "</tr>\n",
       "<tr>\n",
       "  <th>mean_attr_z_gyr</th> <td>    0.9972</td> <td>    8.598</td> <td>    0.116</td> <td> 0.908</td> <td>  -15.855</td> <td>   17.850</td>\n",
       "</tr>\n",
       "<tr>\n",
       "  <th>mean_attr_x_acc</th> <td>    2.6199</td> <td>    1.285</td> <td>    2.040</td> <td> 0.041</td> <td>    0.102</td> <td>    5.138</td>\n",
       "</tr>\n",
       "<tr>\n",
       "  <th>mean_attr_y_acc</th> <td>   -3.1935</td> <td>    1.429</td> <td>   -2.235</td> <td> 0.025</td> <td>   -5.994</td> <td>   -0.393</td>\n",
       "</tr>\n",
       "<tr>\n",
       "  <th>mean_attr_z_acc</th> <td>   -0.7257</td> <td>    1.134</td> <td>   -0.640</td> <td> 0.522</td> <td>   -2.948</td> <td>    1.496</td>\n",
       "</tr>\n",
       "<tr>\n",
       "  <th>subject_2</th>       <td>  -16.6331</td> <td>   15.250</td> <td>   -1.091</td> <td> 0.275</td> <td>  -46.523</td> <td>   13.257</td>\n",
       "</tr>\n",
       "<tr>\n",
       "  <th>subject_3</th>       <td>   -9.3201</td> <td>    7.533</td> <td>   -1.237</td> <td> 0.216</td> <td>  -24.084</td> <td>    5.444</td>\n",
       "</tr>\n",
       "<tr>\n",
       "  <th>subject_4</th>       <td>   -7.2423</td> <td>    5.240</td> <td>   -1.382</td> <td> 0.167</td> <td>  -17.512</td> <td>    3.027</td>\n",
       "</tr>\n",
       "<tr>\n",
       "  <th>subject_5</th>       <td>  -18.2997</td> <td>    7.684</td> <td>   -2.382</td> <td> 0.017</td> <td>  -33.360</td> <td>   -3.240</td>\n",
       "</tr>\n",
       "<tr>\n",
       "  <th>subject_6</th>       <td>   -8.4018</td> <td>    6.652</td> <td>   -1.263</td> <td> 0.207</td> <td>  -21.440</td> <td>    4.637</td>\n",
       "</tr>\n",
       "<tr>\n",
       "  <th>subject_7</th>       <td>  -14.0792</td> <td>    6.896</td> <td>   -2.042</td> <td> 0.041</td> <td>  -27.595</td> <td>   -0.563</td>\n",
       "</tr>\n",
       "<tr>\n",
       "  <th>subject_8</th>       <td>   -4.3504</td> <td>    5.764</td> <td>   -0.755</td> <td> 0.450</td> <td>  -15.647</td> <td>    6.946</td>\n",
       "</tr>\n",
       "<tr>\n",
       "  <th>subject_9</th>       <td>   -8.3937</td> <td>    8.269</td> <td>   -1.015</td> <td> 0.310</td> <td>  -24.600</td> <td>    7.812</td>\n",
       "</tr>\n",
       "<tr>\n",
       "  <th>subject_10</th>      <td>   -9.9049</td> <td>    5.646</td> <td>   -1.754</td> <td> 0.079</td> <td>  -20.972</td> <td>    1.162</td>\n",
       "</tr>\n",
       "</table>"
      ],
      "text/plain": [
       "<class 'statsmodels.iolib.summary.Summary'>\n",
       "\"\"\"\n",
       "                          MNLogit Regression Results                          \n",
       "==============================================================================\n",
       "Dep. Variable:                     pa   No. Observations:                19824\n",
       "Model:                        MNLogit   Df Residuals:                    19780\n",
       "Method:                           MLE   Df Model:                           42\n",
       "Date:                Mon, 27 May 2019   Pseudo R-squ.:                  0.9969\n",
       "Time:                        20:48:48   Log-Likelihood:                -61.563\n",
       "converged:                       True   LL-Null:                       -19576.\n",
       "                                        LLR p-value:                     0.000\n",
       "===================================================================================\n",
       "pa=1_light_moderate       coef    std err          z      P>|z|      [0.025      0.975]\n",
       "---------------------------------------------------------------------------------------\n",
       "const                 -29.3131     14.767     -1.985      0.047     -58.256      -0.370\n",
       "std_attr_x_gyr         15.3094      8.118      1.886      0.059      -0.602      31.221\n",
       "std_attr_y_gyr          2.0725      3.244      0.639      0.523      -4.285       8.430\n",
       "std_attr_z_gyr          1.9385      7.905      0.245      0.806     -13.555      17.432\n",
       "std_attr_x_acc         12.9834      6.194      2.096      0.036       0.843      25.123\n",
       "std_attr_y_acc          5.8955      2.201      2.678      0.007       1.581      10.210\n",
       "std_attr_z_acc         -3.2283      1.973     -1.636      0.102      -7.095       0.639\n",
       "mean_attr_x_gyr        -6.2493      7.043     -0.887      0.375     -20.053       7.554\n",
       "mean_attr_y_gyr         3.0070      1.757      1.712      0.087      -0.436       6.450\n",
       "mean_attr_z_gyr       -10.1656      7.920     -1.284      0.199     -25.688       5.357\n",
       "mean_attr_x_acc         1.0391      1.248      0.833      0.405      -1.407       3.485\n",
       "mean_attr_y_acc         0.3165      1.251      0.253      0.800      -2.136       2.769\n",
       "mean_attr_z_acc         0.6128      0.835      0.734      0.463      -1.023       2.248\n",
       "subject_2              -3.1400     15.067     -0.208      0.835     -32.671      26.391\n",
       "subject_3              -5.7826      7.090     -0.816      0.415     -19.678       8.113\n",
       "subject_4              -5.5618      4.893     -1.137      0.256     -15.152       4.029\n",
       "subject_5              -9.5196      7.489     -1.271      0.204     -24.198       5.159\n",
       "subject_6               0.3596      5.916      0.061      0.952     -11.236      11.955\n",
       "subject_7              -9.0032      6.600     -1.364      0.173     -21.938       3.932\n",
       "subject_8               4.3868      5.038      0.871      0.384      -5.488      14.261\n",
       "subject_9               1.8105      7.128      0.254      0.799     -12.159      15.780\n",
       "subject_10              0.9043      4.117      0.220      0.826      -7.164       8.973\n",
       "---------------------------------------------------------------------------------------\n",
       "  pa=2_vigorous       coef    std err          z      P>|z|      [0.025      0.975]\n",
       "-----------------------------------------------------------------------------------\n",
       "const             -23.7497     16.185     -1.467      0.142     -55.472       7.973\n",
       "std_attr_x_gyr     12.3390      8.328      1.482      0.138      -3.984      28.662\n",
       "std_attr_y_gyr      3.9805      3.396      1.172      0.241      -2.675      10.636\n",
       "std_attr_z_gyr      3.3111      8.084      0.410      0.682     -12.533      19.155\n",
       "std_attr_x_acc     15.9911      6.228      2.568      0.010       3.784      28.198\n",
       "std_attr_y_acc      8.5340      2.269      3.761      0.000       4.087      12.981\n",
       "std_attr_z_acc     -3.5004      2.074     -1.688      0.091      -7.565       0.565\n",
       "mean_attr_x_gyr   -10.0612      7.389     -1.362      0.173     -24.543       4.420\n",
       "mean_attr_y_gyr     4.4019      2.208      1.994      0.046       0.075       8.729\n",
       "mean_attr_z_gyr     0.9972      8.598      0.116      0.908     -15.855      17.850\n",
       "mean_attr_x_acc     2.6199      1.285      2.040      0.041       0.102       5.138\n",
       "mean_attr_y_acc    -3.1935      1.429     -2.235      0.025      -5.994      -0.393\n",
       "mean_attr_z_acc    -0.7257      1.134     -0.640      0.522      -2.948       1.496\n",
       "subject_2         -16.6331     15.250     -1.091      0.275     -46.523      13.257\n",
       "subject_3          -9.3201      7.533     -1.237      0.216     -24.084       5.444\n",
       "subject_4          -7.2423      5.240     -1.382      0.167     -17.512       3.027\n",
       "subject_5         -18.2997      7.684     -2.382      0.017     -33.360      -3.240\n",
       "subject_6          -8.4018      6.652     -1.263      0.207     -21.440       4.637\n",
       "subject_7         -14.0792      6.896     -2.042      0.041     -27.595      -0.563\n",
       "subject_8          -4.3504      5.764     -0.755      0.450     -15.647       6.946\n",
       "subject_9          -8.3937      8.269     -1.015      0.310     -24.600       7.812\n",
       "subject_10         -9.9049      5.646     -1.754      0.079     -20.972       1.162\n",
       "===================================================================================\n",
       "\"\"\""
      ]
     },
     "execution_count": 101,
     "metadata": {},
     "output_type": "execute_result"
    }
   ],
   "source": [
    "model_fitted.summary()"
   ]
  },
  {
   "cell_type": "markdown",
   "metadata": {},
   "source": [
    "In the above model, none of the subject dummies are significantly different except for Subjects 5 & 7 for vigorous PA. This suggests that the model is fairly generalizable."
   ]
  },
  {
   "cell_type": "code",
   "execution_count": 102,
   "metadata": {},
   "outputs": [],
   "source": [
    "# simpler model w/out gyroscope \n",
    "columns=['std_attr_x_acc', 'std_attr_y_acc', 'std_attr_z_acc', \n",
    "         'mean_attr_x_acc', 'mean_attr_y_acc', 'mean_attr_z_acc']\n",
    "X = df[columns]\n",
    "y = df.pa\n",
    "\n",
    "X = add_constant(X)"
   ]
  },
  {
   "cell_type": "code",
   "execution_count": 103,
   "metadata": {},
   "outputs": [
    {
     "name": "stdout",
     "output_type": "stream",
     "text": [
      "Optimization terminated successfully.\n",
      "         Current function value: 0.014289\n",
      "         Iterations: 195\n",
      "         Function evaluations: 199\n",
      "         Gradient evaluations: 199\n"
     ]
    }
   ],
   "source": [
    "smodel = MNLogit(y,X)\n",
    "\n",
    "model_fitted=smodel.fit(method='bfgs',maxiter=5000)._results"
   ]
  },
  {
   "cell_type": "code",
   "execution_count": 104,
   "metadata": {
    "scrolled": true
   },
   "outputs": [
    {
     "data": {
      "text/html": [
       "<table class=\"simpletable\">\n",
       "<caption>MNLogit Regression Results</caption>\n",
       "<tr>\n",
       "  <th>Dep. Variable:</th>        <td>pa</td>        <th>  No. Observations:  </th>  <td> 19824</td> \n",
       "</tr>\n",
       "<tr>\n",
       "  <th>Model:</th>              <td>MNLogit</td>     <th>  Df Residuals:      </th>  <td> 19810</td> \n",
       "</tr>\n",
       "<tr>\n",
       "  <th>Method:</th>               <td>MLE</td>       <th>  Df Model:          </th>  <td>    12</td> \n",
       "</tr>\n",
       "<tr>\n",
       "  <th>Date:</th>          <td>Mon, 27 May 2019</td> <th>  Pseudo R-squ.:     </th>  <td>0.9855</td> \n",
       "</tr>\n",
       "<tr>\n",
       "  <th>Time:</th>              <td>20:52:01</td>     <th>  Log-Likelihood:    </th> <td> -283.27</td>\n",
       "</tr>\n",
       "<tr>\n",
       "  <th>converged:</th>           <td>True</td>       <th>  LL-Null:           </th> <td> -19576.</td>\n",
       "</tr>\n",
       "<tr>\n",
       "  <th> </th>                      <td> </td>        <th>  LLR p-value:       </th>  <td> 0.000</td> \n",
       "</tr>\n",
       "</table>\n",
       "<table class=\"simpletable\">\n",
       "<tr>\n",
       "  <th>pa=1_light_moderate</th>    <th>coef</th>     <th>std err</th>      <th>z</th>      <th>P>|z|</th>  <th>[0.025</th>    <th>0.975]</th>  \n",
       "</tr>\n",
       "<tr>\n",
       "  <th>const</th>               <td>  -20.3095</td> <td>    5.669</td> <td>   -3.582</td> <td> 0.000</td> <td>  -31.421</td> <td>   -9.198</td>\n",
       "</tr>\n",
       "<tr>\n",
       "  <th>std_attr_x_acc</th>      <td>    5.0238</td> <td>    1.255</td> <td>    4.002</td> <td> 0.000</td> <td>    2.564</td> <td>    7.484</td>\n",
       "</tr>\n",
       "<tr>\n",
       "  <th>std_attr_y_acc</th>      <td>    5.6356</td> <td>    0.924</td> <td>    6.101</td> <td> 0.000</td> <td>    3.825</td> <td>    7.446</td>\n",
       "</tr>\n",
       "<tr>\n",
       "  <th>std_attr_z_acc</th>      <td>   -0.7667</td> <td>    0.707</td> <td>   -1.084</td> <td> 0.278</td> <td>   -2.152</td> <td>    0.619</td>\n",
       "</tr>\n",
       "<tr>\n",
       "  <th>mean_attr_x_acc</th>     <td>   -0.4629</td> <td>    0.219</td> <td>   -2.112</td> <td> 0.035</td> <td>   -0.893</td> <td>   -0.033</td>\n",
       "</tr>\n",
       "<tr>\n",
       "  <th>mean_attr_y_acc</th>     <td>    0.8612</td> <td>    0.585</td> <td>    1.472</td> <td> 0.141</td> <td>   -0.285</td> <td>    2.008</td>\n",
       "</tr>\n",
       "<tr>\n",
       "  <th>mean_attr_z_acc</th>     <td>   -0.2462</td> <td>    0.337</td> <td>   -0.730</td> <td> 0.465</td> <td>   -0.907</td> <td>    0.415</td>\n",
       "</tr>\n",
       "<tr>\n",
       "   <th>pa=2_vigorous</th>     <th>coef</th>     <th>std err</th>      <th>z</th>      <th>P>|z|</th>  <th>[0.025</th>    <th>0.975]</th>  \n",
       "</tr>\n",
       "<tr>\n",
       "  <th>const</th>           <td>  -40.9935</td> <td>    6.089</td> <td>   -6.732</td> <td> 0.000</td> <td>  -52.928</td> <td>  -29.059</td>\n",
       "</tr>\n",
       "<tr>\n",
       "  <th>std_attr_x_acc</th>  <td>    9.2271</td> <td>    1.297</td> <td>    7.117</td> <td> 0.000</td> <td>    6.686</td> <td>   11.768</td>\n",
       "</tr>\n",
       "<tr>\n",
       "  <th>std_attr_y_acc</th>  <td>    8.1330</td> <td>    0.948</td> <td>    8.577</td> <td> 0.000</td> <td>    6.275</td> <td>    9.992</td>\n",
       "</tr>\n",
       "<tr>\n",
       "  <th>std_attr_z_acc</th>  <td>   -1.5372</td> <td>    0.729</td> <td>   -2.108</td> <td> 0.035</td> <td>   -2.967</td> <td>   -0.108</td>\n",
       "</tr>\n",
       "<tr>\n",
       "  <th>mean_attr_x_acc</th> <td>    0.3782</td> <td>    0.243</td> <td>    1.558</td> <td> 0.119</td> <td>   -0.097</td> <td>    0.854</td>\n",
       "</tr>\n",
       "<tr>\n",
       "  <th>mean_attr_y_acc</th> <td>   -0.7582</td> <td>    0.615</td> <td>   -1.233</td> <td> 0.218</td> <td>   -1.964</td> <td>    0.447</td>\n",
       "</tr>\n",
       "<tr>\n",
       "  <th>mean_attr_z_acc</th> <td>   -0.2781</td> <td>    0.389</td> <td>   -0.715</td> <td> 0.475</td> <td>   -1.041</td> <td>    0.485</td>\n",
       "</tr>\n",
       "</table>"
      ],
      "text/plain": [
       "<class 'statsmodels.iolib.summary.Summary'>\n",
       "\"\"\"\n",
       "                          MNLogit Regression Results                          \n",
       "==============================================================================\n",
       "Dep. Variable:                     pa   No. Observations:                19824\n",
       "Model:                        MNLogit   Df Residuals:                    19810\n",
       "Method:                           MLE   Df Model:                           12\n",
       "Date:                Mon, 27 May 2019   Pseudo R-squ.:                  0.9855\n",
       "Time:                        20:52:01   Log-Likelihood:                -283.27\n",
       "converged:                       True   LL-Null:                       -19576.\n",
       "                                        LLR p-value:                     0.000\n",
       "===================================================================================\n",
       "pa=1_light_moderate       coef    std err          z      P>|z|      [0.025      0.975]\n",
       "---------------------------------------------------------------------------------------\n",
       "const                 -20.3095      5.669     -3.582      0.000     -31.421      -9.198\n",
       "std_attr_x_acc          5.0238      1.255      4.002      0.000       2.564       7.484\n",
       "std_attr_y_acc          5.6356      0.924      6.101      0.000       3.825       7.446\n",
       "std_attr_z_acc         -0.7667      0.707     -1.084      0.278      -2.152       0.619\n",
       "mean_attr_x_acc        -0.4629      0.219     -2.112      0.035      -0.893      -0.033\n",
       "mean_attr_y_acc         0.8612      0.585      1.472      0.141      -0.285       2.008\n",
       "mean_attr_z_acc        -0.2462      0.337     -0.730      0.465      -0.907       0.415\n",
       "---------------------------------------------------------------------------------------\n",
       "  pa=2_vigorous       coef    std err          z      P>|z|      [0.025      0.975]\n",
       "-----------------------------------------------------------------------------------\n",
       "const             -40.9935      6.089     -6.732      0.000     -52.928     -29.059\n",
       "std_attr_x_acc      9.2271      1.297      7.117      0.000       6.686      11.768\n",
       "std_attr_y_acc      8.1330      0.948      8.577      0.000       6.275       9.992\n",
       "std_attr_z_acc     -1.5372      0.729     -2.108      0.035      -2.967      -0.108\n",
       "mean_attr_x_acc     0.3782      0.243      1.558      0.119      -0.097       0.854\n",
       "mean_attr_y_acc    -0.7582      0.615     -1.233      0.218      -1.964       0.447\n",
       "mean_attr_z_acc    -0.2781      0.389     -0.715      0.475      -1.041       0.485\n",
       "===================================================================================\n",
       "\"\"\""
      ]
     },
     "execution_count": 104,
     "metadata": {},
     "output_type": "execute_result"
    }
   ],
   "source": [
    "model_fitted.summary()"
   ]
  },
  {
   "cell_type": "markdown",
   "metadata": {},
   "source": [
    "## Fit logistic regression model to all 10 subjects to use on holdout data"
   ]
  },
  {
   "cell_type": "code",
   "execution_count": 105,
   "metadata": {},
   "outputs": [],
   "source": [
    "columns=[\n",
    "        'std_attr_x_gyr', 'std_attr_y_gyr', 'std_attr_z_gyr',\n",
    "         'std_attr_x_acc', 'std_attr_y_acc', 'std_attr_z_acc', \n",
    "          'mean_attr_x_gyr', 'mean_attr_y_gyr', 'mean_attr_z_gyr', \n",
    "          'mean_attr_x_acc', 'mean_attr_y_acc', 'mean_attr_z_acc',\n",
    "         'range_attr_x_gyr', 'range_attr_y_gyr','range_attr_z_gyr', \n",
    "         'range_attr_x_acc', 'range_attr_y_acc', 'range_attr_z_acc'\n",
    "]\n",
    "X = df[columns]\n",
    "y = df.pa"
   ]
  },
  {
   "cell_type": "code",
   "execution_count": 106,
   "metadata": {},
   "outputs": [
    {
     "name": "stdout",
     "output_type": "stream",
     "text": [
      "Training F1 score is: 0.997\n",
      "Training acc score is: 0.998\n"
     ]
    }
   ],
   "source": [
    "model = LogisticRegression(solver='newton-cg',multi_class='multinomial', max_iter=500)\n",
    "model.fit(X,y)\n",
    "y_pred = model.predict(X)\n",
    "print(f'Training F1 score is: {f1_score(y,y_pred,average=\"macro\"):.3f}')\n",
    "print(f'Training acc score is: {accuracy_score(y,y_pred):.3f}')"
   ]
  },
  {
   "cell_type": "code",
   "execution_count": 108,
   "metadata": {},
   "outputs": [],
   "source": [
    "# save model for later use\n",
    "pkl_filename = \"./data/LR_model.pkl\"  \n",
    "with open(pkl_filename, 'wb') as file:  \n",
    "    pickle.dump(model, file)"
   ]
  },
  {
   "cell_type": "markdown",
   "metadata": {},
   "source": [
    "## Run the model without the gyroscope data"
   ]
  },
  {
   "cell_type": "code",
   "execution_count": 107,
   "metadata": {},
   "outputs": [],
   "source": [
    "columns=[\n",
    "#         'std_attr_x_gyr', 'std_attr_y_gyr', 'std_attr_z_gyr',\n",
    "         'std_attr_x_acc', 'std_attr_y_acc', 'std_attr_z_acc', \n",
    "          'mean_attr_x_gyr', 'mean_attr_y_gyr', 'mean_attr_z_gyr', \n",
    "#           'mean_attr_x_acc', 'mean_attr_y_acc', 'mean_attr_z_acc',\n",
    "         'range_attr_x_gyr', 'range_attr_y_gyr','range_attr_z_gyr', \n",
    "         'range_attr_x_acc', 'range_attr_y_acc', 'range_attr_z_acc'\n",
    "]\n",
    "X = df[columns]\n",
    "y = df.pa"
   ]
  },
  {
   "cell_type": "code",
   "execution_count": 109,
   "metadata": {},
   "outputs": [
    {
     "name": "stdout",
     "output_type": "stream",
     "text": [
      "Training F1 score is: 0.995\n",
      "Training acc score is: 0.997\n"
     ]
    }
   ],
   "source": [
    "model = LogisticRegression(solver='newton-cg',multi_class='multinomial', max_iter=500)\n",
    "model.fit(X,y)\n",
    "y_pred = model.predict(X)\n",
    "print(f'Training F1 score is: {f1_score(y,y_pred,average=\"macro\"):.3f}')\n",
    "print(f'Training acc score is: {accuracy_score(y,y_pred):.3f}')"
   ]
  },
  {
   "cell_type": "code",
   "execution_count": 110,
   "metadata": {},
   "outputs": [],
   "source": [
    "# save model for later use\n",
    "pkl_filename = \"./data/LR_model_acc.pkl\"  \n",
    "with open(pkl_filename, 'wb') as file:  \n",
    "    pickle.dump(model, file)"
   ]
  }
 ],
 "metadata": {
  "kernelspec": {
   "display_name": "Python 3",
   "language": "python",
   "name": "python3"
  },
  "language_info": {
   "codemirror_mode": {
    "name": "ipython",
    "version": 3
   },
   "file_extension": ".py",
   "mimetype": "text/x-python",
   "name": "python",
   "nbconvert_exporter": "python",
   "pygments_lexer": "ipython3",
   "version": "3.6.8"
  }
 },
 "nbformat": 4,
 "nbformat_minor": 2
}
