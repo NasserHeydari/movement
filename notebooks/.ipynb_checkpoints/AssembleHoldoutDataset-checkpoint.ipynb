{
 "cells": [
  {
   "cell_type": "markdown",
   "metadata": {},
   "source": [
    "## Assemble Holdout Dataset\n",
    "\n",
    "This notebook unzips and assembles the data for subjects 11 to 15 to be used as a holdout dataset for testing the final models."
   ]
  },
  {
   "cell_type": "code",
   "execution_count": 2,
   "metadata": {},
   "outputs": [],
   "source": [
    "import numpy as np\n",
    "import pandas as pd\n",
    "import matplotlib.pyplot as plt\n",
    "import zipfile"
   ]
  },
  {
   "cell_type": "code",
   "execution_count": 8,
   "metadata": {},
   "outputs": [],
   "source": [
    "# unzip data files for gyroscope\n",
    "sensor = \"gyr_\"\n",
    "activities =[\"climbingdown\",\"climbingup\",\"jumping\",\"lying\",\"running\",\"sitting\",\"standing\",\"walking\"]\n",
    "for subject in range(11,16):  # extract subjects\n",
    "    zipfilepath=\"./data/proband\"+str(subject)+\"/data/\"\n",
    "    for activity in activities:\n",
    "        zipfilename = sensor+activity+\"_csv.zip\"\n",
    "        if subject==13 and activity==\"walking\":\n",
    "            filename = \"Gyroscope_walking_2_thigh.csv\"\n",
    "        else:\n",
    "            filename = \"Gyroscope_\"+activity+\"_thigh.csv\"\n",
    "        savepath = \"./data/\"+str(subject)+\"/\"\n",
    "        with zipfile.ZipFile(zipfilepath+zipfilename,\"r\") as zip_ref:\n",
    "            zip_ref.extract(filename, path=savepath)"
   ]
  },
  {
   "cell_type": "code",
   "execution_count": 11,
   "metadata": {
    "scrolled": true
   },
   "outputs": [],
   "source": [
    "# unzip data files for accelerometer\n",
    "sensor = \"acc_\"\n",
    "activities =[\"climbingdown\",\"climbingup\",\"jumping\",\"lying\",\"running\",\"sitting\",\"standing\",\"walking\"]\n",
    "for subject in range(11,16):  # extract subjects\n",
    "    zipfilepath=\"./data/proband\"+str(subject)+\"/data/\"\n",
    "    for activity in activities:\n",
    "        zipfilename = sensor+activity+\"_csv.zip\"\n",
    "        if subject==13 and activity==\"walking\":\n",
    "            filename = \"acc_walking_2_thigh.csv\"\n",
    "        else:\n",
    "            filename = \"acc_\"+activity+\"_thigh.csv\"\n",
    "        savepath = \"./data/\"+str(subject)+\"/\"\n",
    "        with zipfile.ZipFile(zipfilepath+zipfilename,\"r\") as zip_ref:\n",
    "            zip_ref.extract(filename, path=savepath)"
   ]
  },
  {
   "cell_type": "code",
   "execution_count": 12,
   "metadata": {},
   "outputs": [],
   "source": [
    "# rename _2 files\n",
    "import os\n",
    "os.rename(\"./data/13/Gyroscope_walking_2_thigh.csv\", \"./data/13/Gyroscope_walking_thigh.csv\")\n",
    "os.rename(\"./data/13/acc_walking_2_thigh.csv\", \"./data/13/acc_walking_thigh.csv\")"
   ]
  },
  {
   "cell_type": "code",
   "execution_count": 3,
   "metadata": {},
   "outputs": [
    {
     "name": "stderr",
     "output_type": "stream",
     "text": [
      "C:\\Users\\pauls\\Anaconda3\\envs\\dsi\\lib\\site-packages\\ipykernel_launcher.py:32: SettingWithCopyWarning: \n",
      "A value is trying to be set on a copy of a slice from a DataFrame\n",
      "\n",
      "See the caveats in the documentation: http://pandas.pydata.org/pandas-docs/stable/indexing.html#indexing-view-versus-copy\n"
     ]
    }
   ],
   "source": [
    "# merge all activities into 1 df, for subjects 11-15, with gyroscope & accelerometer sensors combined\n",
    "thigh_validate = pd.DataFrame()  # initialize empty df\n",
    "windowsize = 100 # use 2 sec windows\n",
    "last_sample = 0\n",
    "activities =[\"climbingdown\",\"climbingup\",\"jumping\",\"lying\",\"running\",\"sitting\",\"standing\",\"walking\"]\n",
    "# iterate over subjects\n",
    "for subject in range(11,16):\n",
    "    # iterate over the separate activity files\n",
    "    for i, activity in enumerate(activities):\n",
    "        g_filename = \"./data/\"+str(subject)+\"/Gyroscope_\"+activity+\"_thigh.csv\"\n",
    "        a_filename = \"./data/\"+str(subject)+\"/acc_\"+activity+\"_thigh.csv\"\n",
    "        gyr = pd.read_csv(g_filename, index_col=0)\n",
    "        acc = pd.read_csv(a_filename, index_col=0)\n",
    "        # make sure the different sensor files have the same number of readings\n",
    "        if len(gyr)>len(acc):\n",
    "            extra_records=len(gyr)-len(acc)\n",
    "            acc = acc[:-extra_records]\n",
    "        if len(gyr)<len(acc):\n",
    "            extra_records=len(acc)-len(gyr)\n",
    "            gyr = gyr[:-extra_records]\n",
    "        df = pd.merge(gyr,acc,right_index=True,left_index=True,suffixes=('_gyr','_acc'))\n",
    "        df['activity']=activity\n",
    "        df['label']=i\n",
    "        df['subject']=subject\n",
    "        df['sample_num']=-1  # just to create the column   \n",
    "        remainder=len(df)%windowsize\n",
    "        df=df[:-remainder]  # delete rows so that all samples are the same size\n",
    "        num_samples=int(len(df)/windowsize)  # the number of samples of size windowsize for the activity\n",
    "        row_counter=0\n",
    "    # label the samples within each activity file    \n",
    "        for j in range(0,num_samples):   \n",
    "            df.sample_num[row_counter:row_counter+windowsize]=last_sample+j # label samples\n",
    "            row_counter=row_counter+windowsize\n",
    "        last_sample+=num_samples # label the samples consecutively across activities\n",
    "        thigh_validate = thigh_validate.append(df, ignore_index=True)"
   ]
  },
  {
   "cell_type": "code",
   "execution_count": 4,
   "metadata": {},
   "outputs": [],
   "source": [
    "thigh_validate.to_pickle('./thigh_validate100.pkl')"
   ]
  }
 ],
 "metadata": {
  "kernelspec": {
   "display_name": "Python 3",
   "language": "python",
   "name": "python3"
  },
  "language_info": {
   "codemirror_mode": {
    "name": "ipython",
    "version": 3
   },
   "file_extension": ".py",
   "mimetype": "text/x-python",
   "name": "python",
   "nbconvert_exporter": "python",
   "pygments_lexer": "ipython3",
   "version": "3.6.8"
  }
 },
 "nbformat": 4,
 "nbformat_minor": 2
}
