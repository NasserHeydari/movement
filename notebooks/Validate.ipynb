{
 "cells": [
  {
   "cell_type": "markdown",
   "metadata": {},
   "source": [
    "## Validate Model on Held-Out Subjects\n",
    "This notebook applies the previously calculated model, using 10 test subjects, to the remaining 5 subjects from the same dataset that were not used at all to estimate the model. The same filters to eliminate mislabeled samples in the training data are applied to the validation data.  "
   ]
  },
  {
   "cell_type": "code",
   "execution_count": 2,
   "metadata": {},
   "outputs": [
    {
     "name": "stderr",
     "output_type": "stream",
     "text": [
      "Using TensorFlow backend.\n"
     ]
    }
   ],
   "source": [
    "import numpy as np\n",
    "import pandas as pd\n",
    "import random as rn\n",
    "\n",
    "from sklearn.preprocessing import StandardScaler\n",
    "from sklearn.metrics import accuracy_score, classification_report, confusion_matrix\n",
    "from keras.utils import to_categorical\n",
    "\n",
    "import matplotlib.pyplot as plt\n",
    "%matplotlib inline\n",
    "\n",
    "import pickle\n",
    "import itertools\n",
    "\n"
   ]
  },
  {
   "cell_type": "code",
   "execution_count": 3,
   "metadata": {},
   "outputs": [],
   "source": [
    "df = pd.read_pickle('./thigh_validate100.pkl')"
   ]
  },
  {
   "cell_type": "code",
   "execution_count": 4,
   "metadata": {},
   "outputs": [
    {
     "data": {
      "text/html": [
       "<div>\n",
       "<style scoped>\n",
       "    .dataframe tbody tr th:only-of-type {\n",
       "        vertical-align: middle;\n",
       "    }\n",
       "\n",
       "    .dataframe tbody tr th {\n",
       "        vertical-align: top;\n",
       "    }\n",
       "\n",
       "    .dataframe thead th {\n",
       "        text-align: right;\n",
       "    }\n",
       "</style>\n",
       "<table border=\"1\" class=\"dataframe\">\n",
       "  <thead>\n",
       "    <tr style=\"text-align: right;\">\n",
       "      <th></th>\n",
       "      <th>attr_time_gyr</th>\n",
       "      <th>attr_x_gyr</th>\n",
       "      <th>attr_y_gyr</th>\n",
       "      <th>attr_z_gyr</th>\n",
       "      <th>attr_time_acc</th>\n",
       "      <th>attr_x_acc</th>\n",
       "      <th>attr_y_acc</th>\n",
       "      <th>attr_z_acc</th>\n",
       "      <th>activity</th>\n",
       "      <th>label</th>\n",
       "      <th>subject</th>\n",
       "      <th>sample_num</th>\n",
       "    </tr>\n",
       "  </thead>\n",
       "  <tbody>\n",
       "    <tr>\n",
       "      <th>0</th>\n",
       "      <td>1436898151013</td>\n",
       "      <td>-0.131894</td>\n",
       "      <td>0.090647</td>\n",
       "      <td>0.000252</td>\n",
       "      <td>1436898151014</td>\n",
       "      <td>-4.435259</td>\n",
       "      <td>8.489840</td>\n",
       "      <td>-0.550068</td>\n",
       "      <td>climbingdown</td>\n",
       "      <td>0</td>\n",
       "      <td>11</td>\n",
       "      <td>0</td>\n",
       "    </tr>\n",
       "    <tr>\n",
       "      <th>1</th>\n",
       "      <td>1436898151031</td>\n",
       "      <td>-0.112652</td>\n",
       "      <td>0.141043</td>\n",
       "      <td>0.004528</td>\n",
       "      <td>1436898151033</td>\n",
       "      <td>-4.444836</td>\n",
       "      <td>8.537724</td>\n",
       "      <td>-0.687136</td>\n",
       "      <td>climbingdown</td>\n",
       "      <td>0</td>\n",
       "      <td>11</td>\n",
       "      <td>0</td>\n",
       "    </tr>\n",
       "    <tr>\n",
       "      <th>2</th>\n",
       "      <td>1436898151052</td>\n",
       "      <td>-0.097685</td>\n",
       "      <td>0.128215</td>\n",
       "      <td>0.022854</td>\n",
       "      <td>1436898151053</td>\n",
       "      <td>-4.267066</td>\n",
       "      <td>8.509591</td>\n",
       "      <td>-0.664990</td>\n",
       "      <td>climbingdown</td>\n",
       "      <td>0</td>\n",
       "      <td>11</td>\n",
       "      <td>0</td>\n",
       "    </tr>\n",
       "    <tr>\n",
       "      <th>3</th>\n",
       "      <td>1436898151072</td>\n",
       "      <td>-0.111430</td>\n",
       "      <td>0.079957</td>\n",
       "      <td>0.022549</td>\n",
       "      <td>1436898151073</td>\n",
       "      <td>-4.426879</td>\n",
       "      <td>8.510190</td>\n",
       "      <td>-0.612916</td>\n",
       "      <td>climbingdown</td>\n",
       "      <td>0</td>\n",
       "      <td>11</td>\n",
       "      <td>0</td>\n",
       "    </tr>\n",
       "    <tr>\n",
       "      <th>4</th>\n",
       "      <td>1436898151091</td>\n",
       "      <td>-0.108986</td>\n",
       "      <td>0.051246</td>\n",
       "      <td>0.025603</td>\n",
       "      <td>1436898151093</td>\n",
       "      <td>-4.394557</td>\n",
       "      <td>8.461109</td>\n",
       "      <td>-0.615908</td>\n",
       "      <td>climbingdown</td>\n",
       "      <td>0</td>\n",
       "      <td>11</td>\n",
       "      <td>0</td>\n",
       "    </tr>\n",
       "  </tbody>\n",
       "</table>\n",
       "</div>"
      ],
      "text/plain": [
       "   attr_time_gyr  attr_x_gyr  attr_y_gyr  attr_z_gyr  attr_time_acc  \\\n",
       "0  1436898151013   -0.131894    0.090647    0.000252  1436898151014   \n",
       "1  1436898151031   -0.112652    0.141043    0.004528  1436898151033   \n",
       "2  1436898151052   -0.097685    0.128215    0.022854  1436898151053   \n",
       "3  1436898151072   -0.111430    0.079957    0.022549  1436898151073   \n",
       "4  1436898151091   -0.108986    0.051246    0.025603  1436898151093   \n",
       "\n",
       "   attr_x_acc  attr_y_acc  attr_z_acc      activity  label  subject  \\\n",
       "0   -4.435259    8.489840   -0.550068  climbingdown      0       11   \n",
       "1   -4.444836    8.537724   -0.687136  climbingdown      0       11   \n",
       "2   -4.267066    8.509591   -0.664990  climbingdown      0       11   \n",
       "3   -4.426879    8.510190   -0.612916  climbingdown      0       11   \n",
       "4   -4.394557    8.461109   -0.615908  climbingdown      0       11   \n",
       "\n",
       "   sample_num  \n",
       "0           0  \n",
       "1           0  \n",
       "2           0  \n",
       "3           0  \n",
       "4           0  "
      ]
     },
     "execution_count": 4,
     "metadata": {},
     "output_type": "execute_result"
    }
   ],
   "source": [
    "df.head()"
   ]
  },
  {
   "cell_type": "code",
   "execution_count": 5,
   "metadata": {},
   "outputs": [
    {
     "data": {
      "text/plain": [
       "7    164300\n",
       "3    160800\n",
       "6    158800\n",
       "5    158400\n",
       "4    157500\n",
       "1    129900\n",
       "0     78300\n",
       "2     24700\n",
       "Name: label, dtype: int64"
      ]
     },
     "execution_count": 5,
     "metadata": {},
     "output_type": "execute_result"
    }
   ],
   "source": [
    "df.label.value_counts()"
   ]
  },
  {
   "cell_type": "code",
   "execution_count": 6,
   "metadata": {},
   "outputs": [
    {
     "data": {
      "text/plain": [
       "walking         0.159098\n",
       "lying           0.155708\n",
       "standing        0.153772\n",
       "sitting         0.153384\n",
       "running         0.152513\n",
       "climbingup      0.125787\n",
       "climbingdown    0.075821\n",
       "jumping         0.023918\n",
       "Name: activity, dtype: float64"
      ]
     },
     "execution_count": 6,
     "metadata": {},
     "output_type": "execute_result"
    }
   ],
   "source": [
    "df.activity.value_counts(1)"
   ]
  },
  {
   "cell_type": "markdown",
   "metadata": {},
   "source": [
    "### Find and drop mislabeled samples"
   ]
  },
  {
   "cell_type": "code",
   "execution_count": 7,
   "metadata": {},
   "outputs": [],
   "source": [
    "deviation = df.groupby(['activity','subject','sample_num']).std()\n",
    "deviation.reset_index(inplace=True)  # converts multiindex into columns"
   ]
  },
  {
   "cell_type": "code",
   "execution_count": 8,
   "metadata": {},
   "outputs": [],
   "source": [
    "def find_bad_samples(activity,samples_to_drop,operator,threshold):\n",
    "    mask =(df.activity == activity) & operator(df.attr_x_acc, threshold)\n",
    "    return samples_to_drop.extend(list(df.sample_num[mask]))"
   ]
  },
  {
   "cell_type": "code",
   "execution_count": 9,
   "metadata": {},
   "outputs": [],
   "source": [
    "import operator\n",
    "df=deviation\n",
    "samples_to_drop = []\n",
    "find_bad_samples('climbingdown',samples_to_drop,operator.lt,1.2)\n",
    "find_bad_samples('climbingup',samples_to_drop,operator.lt,1.2)\n",
    "find_bad_samples('jumping',samples_to_drop,operator.lt,3.5)\n",
    "find_bad_samples('lying',samples_to_drop,operator.gt,0.5)\n",
    "find_bad_samples('running',samples_to_drop,operator.lt,5)\n",
    "find_bad_samples('sitting',samples_to_drop,operator.gt,1)\n",
    "find_bad_samples('walking',samples_to_drop,operator.lt,1.5)"
   ]
  },
  {
   "cell_type": "code",
   "execution_count": 12,
   "metadata": {},
   "outputs": [],
   "source": [
    "thigh_validate = pd.read_pickle('./thigh_validate100.pkl')\n",
    "df = thigh_validate[~thigh_validate.sample_num.isin(samples_to_drop)]"
   ]
  },
  {
   "cell_type": "code",
   "execution_count": 14,
   "metadata": {},
   "outputs": [
    {
     "data": {
      "text/plain": [
       "walking         0.161427\n",
       "standing        0.160518\n",
       "sitting         0.158799\n",
       "lying           0.158597\n",
       "running         0.133832\n",
       "climbingup      0.127262\n",
       "climbingdown    0.076620\n",
       "jumping         0.022946\n",
       "Name: activity, dtype: float64"
      ]
     },
     "execution_count": 14,
     "metadata": {},
     "output_type": "execute_result"
    }
   ],
   "source": [
    "df.activity.value_counts(1)"
   ]
  },
  {
   "cell_type": "code",
   "execution_count": 15,
   "metadata": {},
   "outputs": [
    {
     "data": {
      "text/plain": [
       "(989300, 12)"
      ]
     },
     "execution_count": 15,
     "metadata": {},
     "output_type": "execute_result"
    }
   ],
   "source": [
    "df.shape"
   ]
  },
  {
   "cell_type": "markdown",
   "metadata": {},
   "source": [
    "### Predict activity classes using estimated model"
   ]
  },
  {
   "cell_type": "code",
   "execution_count": 16,
   "metadata": {},
   "outputs": [],
   "source": [
    "X = df[['attr_x_gyr','attr_y_gyr','attr_z_gyr','attr_x_acc','attr_y_acc','attr_z_acc']]"
   ]
  },
  {
   "cell_type": "code",
   "execution_count": 17,
   "metadata": {},
   "outputs": [
    {
     "data": {
      "text/plain": [
       "(989300, 6)"
      ]
     },
     "execution_count": 17,
     "metadata": {},
     "output_type": "execute_result"
    }
   ],
   "source": [
    "X.shape"
   ]
  },
  {
   "cell_type": "code",
   "execution_count": 18,
   "metadata": {},
   "outputs": [
    {
     "data": {
      "text/plain": [
       "(9893,)"
      ]
     },
     "execution_count": 18,
     "metadata": {},
     "output_type": "execute_result"
    }
   ],
   "source": [
    "# Create y\n",
    "y=df.label.groupby(df.sample_num).mean()\n",
    "# y = to_categorical(y, 8)\n",
    "y.shape"
   ]
  },
  {
   "cell_type": "code",
   "execution_count": 29,
   "metadata": {},
   "outputs": [],
   "source": [
    "# scale the validation data based on the original training data\n",
    "filename = \"scaler_fit_to_train.pkl\"  \n",
    "sc = pickle.load( open(filename, \"rb\" )) "
   ]
  },
  {
   "cell_type": "code",
   "execution_count": 20,
   "metadata": {},
   "outputs": [],
   "source": [
    "X = sc.transform(X)"
   ]
  },
  {
   "cell_type": "code",
   "execution_count": 21,
   "metadata": {},
   "outputs": [],
   "source": [
    "X = np.array(X).reshape((-1,100,6))  # reshape into a series of 150x3 arrays - windowsize x num_features"
   ]
  },
  {
   "cell_type": "code",
   "execution_count": 22,
   "metadata": {},
   "outputs": [
    {
     "data": {
      "text/plain": [
       "(9893, 100, 6)"
      ]
     },
     "execution_count": 22,
     "metadata": {},
     "output_type": "execute_result"
    }
   ],
   "source": [
    "X.shape"
   ]
  },
  {
   "cell_type": "code",
   "execution_count": 30,
   "metadata": {},
   "outputs": [],
   "source": [
    "# read the previously estimated model\n",
    "filename = \"./model_10subjects_cnn.pkl\"  \n",
    "model = pickle.load( open(filename, \"rb\" )) "
   ]
  },
  {
   "cell_type": "code",
   "execution_count": 24,
   "metadata": {},
   "outputs": [
    {
     "name": "stdout",
     "output_type": "stream",
     "text": [
      "              precision    recall  f1-score   support\n",
      "\n",
      "climbingdown       0.38      0.30      0.34       758\n",
      "  climbingup       0.46      0.74      0.57      1259\n",
      "     jumping       0.37      0.79      0.50       227\n",
      "       lying       0.66      0.77      0.71      1569\n",
      "     running       0.71      0.76      0.74      1324\n",
      "     sitting       0.43      0.60      0.50      1571\n",
      "    standing       0.97      0.79      0.87      1588\n",
      "     walking       0.00      0.00      0.00      1597\n",
      "\n",
      "    accuracy                           0.58      9893\n",
      "   macro avg       0.50      0.59      0.53      9893\n",
      "weighted avg       0.52      0.58      0.54      9893\n",
      "\n"
     ]
    }
   ],
   "source": [
    "# get accuracy measures per class\n",
    "# source: https://stackoverflow.com/questions/45930750/how-to-output-per-class-accuracy-in-keras\n",
    "# Y = np.argmax(y, axis=1) # Convert one-hot to index\n",
    "y_pred = model.predict_classes(X)\n",
    "print(classification_report(y, y_pred, \n",
    "                            target_names=[\"climbingdown\",\"climbingup\",\"jumping\",\"lying\",\"running\",\"sitting\",\"standing\",\"walking\"]))"
   ]
  },
  {
   "cell_type": "code",
   "execution_count": 26,
   "metadata": {},
   "outputs": [],
   "source": [
    "# source: https://datascience.stackexchange.com/questions/40067/confusion-matrix-three-classes-python\n",
    "def plot_confusion_matrix(cm, classes,\n",
    "                          normalize=False,\n",
    "                          title='Confusion matrix',\n",
    "                          cmap=plt.cm.Blues):\n",
    "    \"\"\"\n",
    "    This function prints and plots the confusion matrix.\n",
    "    Normalization can be applied by setting `normalize=True`.\n",
    "    \"\"\"\n",
    "    if normalize:\n",
    "        cm = cm.astype('float') / cm.sum(axis=1)[:, np.newaxis]\n",
    "        print(\"Normalized confusion matrix\")\n",
    "    \n",
    "    plt.figure(figsize=(12,8))\n",
    "    plt.imshow(cm, interpolation='nearest', cmap=cmap)\n",
    "    plt.title(title)\n",
    "    plt.colorbar()\n",
    "    tick_marks = np.arange(len(classes))\n",
    "    plt.xticks(tick_marks, classes, rotation=45)\n",
    "    plt.yticks(tick_marks, classes)\n",
    "\n",
    "    fmt = '.2f' if normalize else 'd'\n",
    "    thresh = cm.max() / 2.\n",
    "    for i, j in itertools.product(range(cm.shape[0]), range(cm.shape[1])):\n",
    "        plt.text(j, i, format(cm[i, j], fmt),\n",
    "                 horizontalalignment=\"center\",\n",
    "                 color=\"white\" if cm[i, j] > thresh else \"black\")\n",
    "\n",
    "    plt.ylabel('True label')\n",
    "    plt.xlabel('Predicted label')\n",
    "    plt.tight_layout();"
   ]
  },
  {
   "cell_type": "code",
   "execution_count": 28,
   "metadata": {},
   "outputs": [
    {
     "data": {
      "text/plain": [
       "<Figure size 432x288 with 0 Axes>"
      ]
     },
     "metadata": {},
     "output_type": "display_data"
    },
    {
     "data": {
      "image/png": "[encoded data removed]",
      "text/plain": [
       "<Figure size 864x576 with 2 Axes>"
      ]
     },
     "metadata": {
      "needs_background": "light"
     },
     "output_type": "display_data"
    }
   ],
   "source": [
    "np.set_printoptions(precision=2)\n",
    "cm = confusion_matrix(y, \n",
    "                      y_pred)\n",
    "# Plot non-normalized confusion matrix\n",
    "plt.figure()\n",
    "plot_confusion_matrix(cm, \n",
    "                      classes=[\"climbingdown\",\"climbingup\",\"jumping\",\"lying\",\"running\",\"sitting\",\"standing\",\"walking\"],\n",
    "                      title='Confusion matrix, without normalization');\n"
   ]
  }
 ],
 "metadata": {
  "kernelspec": {
   "display_name": "Python 3",
   "language": "python",
   "name": "python3"
  },
  "language_info": {
   "codemirror_mode": {
    "name": "ipython",
    "version": 3
   },
   "file_extension": ".py",
   "mimetype": "text/x-python",
   "name": "python",
   "nbconvert_exporter": "python",
   "pygments_lexer": "ipython3",
   "version": "3.6.8"
  }
 },
 "nbformat": 4,
 "nbformat_minor": 2
}
