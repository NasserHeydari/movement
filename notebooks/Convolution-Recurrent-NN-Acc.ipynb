{
 "cells": [
  {
   "cell_type": "markdown",
   "metadata": {},
   "source": [
    "## Convolution - Recurrent Model-Using Accelerometer Only\n",
    "\n",
    "This notebook estimates a neural network model with convolution and recurrent layers. This version has a train/test split by subject and uses the accelerometer data only."
   ]
  },
  {
   "cell_type": "code",
   "execution_count": 2,
   "metadata": {},
   "outputs": [
    {
     "name": "stderr",
     "output_type": "stream",
     "text": [
      "Using TensorFlow backend.\n"
     ]
    }
   ],
   "source": [
    "import numpy as np\n",
    "import pandas as pd\n",
    "import keras\n",
    "from keras.models import Sequential\n",
    "from keras.layers import BatchNormalization, LSTM, Activation, Dense, Dropout, GRU,Conv1D,MaxPooling1D\n",
    "from keras.initializers import Constant\n",
    "from keras.callbacks import EarlyStopping\n",
    "from keras.utils import to_categorical\n",
    "from keras.optimizers import Adam\n",
    "\n",
    "from sklearn.preprocessing import StandardScaler\n",
    "from sklearn.model_selection import train_test_split\n",
    "from sklearn.metrics import accuracy_score, classification_report, confusion_matrix\n",
    "import matplotlib.pyplot as plt\n",
    "%matplotlib inline\n",
    "\n",
    "import pickle\n",
    "import itertools"
   ]
  },
  {
   "cell_type": "code",
   "execution_count": 3,
   "metadata": {},
   "outputs": [],
   "source": [
    "# need all of this to get reproducible results in Keras\n",
    "# source: https://stackoverflow.com/questions/32419510/how-to-get-reproducible-results-in-keras\n",
    "seed_value= 42\n",
    "\n",
    "# 1. Set the `PYTHONHASHSEED` environment variable at a fixed value\n",
    "import os\n",
    "os.environ['PYTHONHASHSEED']=str(seed_value)\n",
    "\n",
    "# 2. Set the `python` built-in pseudo-random generator at a fixed value\n",
    "import random\n",
    "random.seed(seed_value)\n",
    "\n",
    "# 3. Set the `numpy` pseudo-random generator at a fixed value\n",
    "import numpy as np\n",
    "np.random.seed(seed_value)\n",
    "\n",
    "# 4. Set the `tensorflow` pseudo-random generator at a fixed value\n",
    "import tensorflow as tf\n",
    "tf.set_random_seed(seed_value)\n",
    "\n",
    "# 5. Configure a new global `tensorflow` session\n",
    "from keras import backend as K\n",
    "session_conf = tf.ConfigProto(intra_op_parallelism_threads=1, inter_op_parallelism_threads=1)\n",
    "sess = tf.Session(graph=tf.get_default_graph(), config=session_conf)\n",
    "K.set_session(sess)"
   ]
  },
  {
   "cell_type": "code",
   "execution_count": 4,
   "metadata": {},
   "outputs": [],
   "source": [
    "# read cleaned model data (10 subjects)\n",
    "df = pd.read_pickle('./data/thigh_clean.pkl')"
   ]
  },
  {
   "cell_type": "code",
   "execution_count": 5,
   "metadata": {},
   "outputs": [
    {
     "data": {
      "text/html": [
       "<div>\n",
       "<style scoped>\n",
       "    .dataframe tbody tr th:only-of-type {\n",
       "        vertical-align: middle;\n",
       "    }\n",
       "\n",
       "    .dataframe tbody tr th {\n",
       "        vertical-align: top;\n",
       "    }\n",
       "\n",
       "    .dataframe thead th {\n",
       "        text-align: right;\n",
       "    }\n",
       "</style>\n",
       "<table border=\"1\" class=\"dataframe\">\n",
       "  <thead>\n",
       "    <tr style=\"text-align: right;\">\n",
       "      <th></th>\n",
       "      <th>attr_time_gyr</th>\n",
       "      <th>attr_x_gyr</th>\n",
       "      <th>attr_y_gyr</th>\n",
       "      <th>attr_z_gyr</th>\n",
       "      <th>attr_time_acc</th>\n",
       "      <th>attr_x_acc</th>\n",
       "      <th>attr_y_acc</th>\n",
       "      <th>attr_z_acc</th>\n",
       "      <th>activity</th>\n",
       "      <th>label</th>\n",
       "      <th>subject</th>\n",
       "      <th>sample_num</th>\n",
       "    </tr>\n",
       "  </thead>\n",
       "  <tbody>\n",
       "    <tr>\n",
       "      <th>800</th>\n",
       "      <td>1435996984038</td>\n",
       "      <td>-0.786994</td>\n",
       "      <td>-0.328964</td>\n",
       "      <td>0.244081</td>\n",
       "      <td>1435996984038</td>\n",
       "      <td>0.469264</td>\n",
       "      <td>4.292205</td>\n",
       "      <td>1.912369</td>\n",
       "      <td>climbingdown</td>\n",
       "      <td>0</td>\n",
       "      <td>1</td>\n",
       "      <td>8</td>\n",
       "    </tr>\n",
       "    <tr>\n",
       "      <th>801</th>\n",
       "      <td>1435996984056</td>\n",
       "      <td>-0.539593</td>\n",
       "      <td>-0.340265</td>\n",
       "      <td>0.329907</td>\n",
       "      <td>1435996984056</td>\n",
       "      <td>0.769736</td>\n",
       "      <td>5.878364</td>\n",
       "      <td>2.906561</td>\n",
       "      <td>climbingdown</td>\n",
       "      <td>0</td>\n",
       "      <td>1</td>\n",
       "      <td>8</td>\n",
       "    </tr>\n",
       "    <tr>\n",
       "      <th>802</th>\n",
       "      <td>1435996984076</td>\n",
       "      <td>-0.334953</td>\n",
       "      <td>-0.454802</td>\n",
       "      <td>0.377860</td>\n",
       "      <td>1435996984076</td>\n",
       "      <td>1.098939</td>\n",
       "      <td>7.167043</td>\n",
       "      <td>3.312977</td>\n",
       "      <td>climbingdown</td>\n",
       "      <td>0</td>\n",
       "      <td>1</td>\n",
       "      <td>8</td>\n",
       "    </tr>\n",
       "    <tr>\n",
       "      <th>803</th>\n",
       "      <td>1435996984099</td>\n",
       "      <td>-0.086331</td>\n",
       "      <td>-0.496036</td>\n",
       "      <td>0.339070</td>\n",
       "      <td>1435996984099</td>\n",
       "      <td>1.409586</td>\n",
       "      <td>6.937798</td>\n",
       "      <td>4.225766</td>\n",
       "      <td>climbingdown</td>\n",
       "      <td>0</td>\n",
       "      <td>1</td>\n",
       "      <td>8</td>\n",
       "    </tr>\n",
       "    <tr>\n",
       "      <th>804</th>\n",
       "      <td>1435996984118</td>\n",
       "      <td>0.157099</td>\n",
       "      <td>-0.525052</td>\n",
       "      <td>0.350982</td>\n",
       "      <td>1435996984118</td>\n",
       "      <td>1.442507</td>\n",
       "      <td>6.427235</td>\n",
       "      <td>5.054759</td>\n",
       "      <td>climbingdown</td>\n",
       "      <td>0</td>\n",
       "      <td>1</td>\n",
       "      <td>8</td>\n",
       "    </tr>\n",
       "  </tbody>\n",
       "</table>\n",
       "</div>"
      ],
      "text/plain": [
       "     attr_time_gyr  attr_x_gyr  attr_y_gyr  attr_z_gyr  attr_time_acc  \\\n",
       "800  1435996984038   -0.786994   -0.328964    0.244081  1435996984038   \n",
       "801  1435996984056   -0.539593   -0.340265    0.329907  1435996984056   \n",
       "802  1435996984076   -0.334953   -0.454802    0.377860  1435996984076   \n",
       "803  1435996984099   -0.086331   -0.496036    0.339070  1435996984099   \n",
       "804  1435996984118    0.157099   -0.525052    0.350982  1435996984118   \n",
       "\n",
       "     attr_x_acc  attr_y_acc  attr_z_acc      activity  label  subject  \\\n",
       "800    0.469264    4.292205    1.912369  climbingdown      0        1   \n",
       "801    0.769736    5.878364    2.906561  climbingdown      0        1   \n",
       "802    1.098939    7.167043    3.312977  climbingdown      0        1   \n",
       "803    1.409586    6.937798    4.225766  climbingdown      0        1   \n",
       "804    1.442507    6.427235    5.054759  climbingdown      0        1   \n",
       "\n",
       "     sample_num  \n",
       "800           8  \n",
       "801           8  \n",
       "802           8  \n",
       "803           8  \n",
       "804           8  "
      ]
     },
     "execution_count": 5,
     "metadata": {},
     "output_type": "execute_result"
    }
   ],
   "source": [
    "df.head()"
   ]
  },
  {
   "cell_type": "code",
   "execution_count": 6,
   "metadata": {},
   "outputs": [
    {
     "data": {
      "text/plain": [
       "5     0.108505\n",
       "8     0.106739\n",
       "3     0.105781\n",
       "9     0.105125\n",
       "6     0.104066\n",
       "10    0.103460\n",
       "2     0.103360\n",
       "1     0.098416\n",
       "4     0.084140\n",
       "7     0.080408\n",
       "Name: subject, dtype: float64"
      ]
     },
     "execution_count": 6,
     "metadata": {},
     "output_type": "execute_result"
    }
   ],
   "source": [
    "df.subject.value_counts(1)"
   ]
  },
  {
   "cell_type": "code",
   "execution_count": 7,
   "metadata": {},
   "outputs": [
    {
     "data": {
      "text/plain": [
       "sitting         0.160513\n",
       "standing        0.159554\n",
       "walking         0.158697\n",
       "lying           0.157284\n",
       "climbingup      0.125303\n",
       "running         0.119552\n",
       "climbingdown    0.106638\n",
       "jumping         0.012460\n",
       "Name: activity, dtype: float64"
      ]
     },
     "execution_count": 7,
     "metadata": {},
     "output_type": "execute_result"
    }
   ],
   "source": [
    "df.activity.value_counts(1)"
   ]
  },
  {
   "cell_type": "code",
   "execution_count": 8,
   "metadata": {},
   "outputs": [],
   "source": [
    "# create pa (physical activity) recode: 8 --> 3 classes\n",
    "df['pa']=df.activity.replace({'sitting':'sedentary','standing':'sedentary','walking':'lm','lying':'sedentary','climbingup':'lm',\n",
    "                     'running':'vigorous','climbingdown':'lm','jumping':'vigorous'})"
   ]
  },
  {
   "cell_type": "code",
   "execution_count": 9,
   "metadata": {},
   "outputs": [],
   "source": [
    "# create integer version in order to do 1-hot encoding\n",
    "df['pa_label']=df.pa.replace({'sedentary':0,'lm':1,'vigorous':2})"
   ]
  },
  {
   "cell_type": "code",
   "execution_count": 10,
   "metadata": {},
   "outputs": [],
   "source": [
    "# train/test split \n",
    "# subjects 1 to 7 are in train, subjects 8 to 10 are in test\n",
    "columns =[\n",
    "#     'attr_x_gyr','attr_y_gyr','attr_z_gyr',\n",
    "          'attr_x_acc','attr_y_acc','attr_z_acc']\n",
    "train_mask = df.subject <= 7\n",
    "test_mask = df.subject >= 8\n",
    "X_train = df[columns][train_mask]\n",
    "X_test = df[columns][test_mask]"
   ]
  },
  {
   "cell_type": "code",
   "execution_count": 11,
   "metadata": {},
   "outputs": [],
   "source": [
    "# Create y\n",
    "y_train=df[train_mask].pa_label.groupby(df.sample_num).mean()\n",
    "y_test=df[test_mask].pa_label.groupby(df.sample_num).mean()"
   ]
  },
  {
   "cell_type": "code",
   "execution_count": 12,
   "metadata": {},
   "outputs": [
    {
     "data": {
      "text/plain": [
       "(13573,)"
      ]
     },
     "execution_count": 12,
     "metadata": {},
     "output_type": "execute_result"
    }
   ],
   "source": [
    "y_train.shape"
   ]
  },
  {
   "cell_type": "code",
   "execution_count": 13,
   "metadata": {},
   "outputs": [
    {
     "data": {
      "text/plain": [
       "(6251,)"
      ]
     },
     "execution_count": 13,
     "metadata": {},
     "output_type": "execute_result"
    }
   ],
   "source": [
    "y_test.shape"
   ]
  },
  {
   "cell_type": "code",
   "execution_count": 14,
   "metadata": {},
   "outputs": [],
   "source": [
    "y_train = to_categorical(y_train, 3)\n",
    "y_test = to_categorical(y_test, 3)"
   ]
  },
  {
   "cell_type": "code",
   "execution_count": 15,
   "metadata": {},
   "outputs": [
    {
     "data": {
      "text/plain": [
       "(1357300, 3)"
      ]
     },
     "execution_count": 15,
     "metadata": {},
     "output_type": "execute_result"
    }
   ],
   "source": [
    "X_train.shape"
   ]
  },
  {
   "cell_type": "code",
   "execution_count": 16,
   "metadata": {},
   "outputs": [
    {
     "data": {
      "text/plain": [
       "(625100, 3)"
      ]
     },
     "execution_count": 16,
     "metadata": {},
     "output_type": "execute_result"
    }
   ],
   "source": [
    "X_test.shape"
   ]
  },
  {
   "cell_type": "code",
   "execution_count": 17,
   "metadata": {},
   "outputs": [],
   "source": [
    "sc = StandardScaler()\n",
    "X_train = sc.fit_transform(X_train)\n",
    "X_test = sc.transform(X_test)\n",
    "\n",
    "X_train = np.array(X_train).reshape((-1,100,3))  # reshape into a series of 100x6 arrays - windowsize x num_features\n",
    "X_test = np.array(X_test).reshape((-1,100,3))"
   ]
  },
  {
   "cell_type": "code",
   "execution_count": 18,
   "metadata": {},
   "outputs": [
    {
     "data": {
      "text/plain": [
       "(13573, 3)"
      ]
     },
     "execution_count": 18,
     "metadata": {},
     "output_type": "execute_result"
    }
   ],
   "source": [
    "y_train.shape"
   ]
  },
  {
   "cell_type": "code",
   "execution_count": 19,
   "metadata": {},
   "outputs": [
    {
     "name": "stdout",
     "output_type": "stream",
     "text": [
      "WARNING:tensorflow:From C:\\Users\\pauls\\.conda\\envs\\dsi\\lib\\site-packages\\tensorflow\\python\\framework\\op_def_library.py:263: colocate_with (from tensorflow.python.framework.ops) is deprecated and will be removed in a future version.\n",
      "Instructions for updating:\n",
      "Colocations handled automatically by placer.\n",
      "WARNING:tensorflow:From C:\\Users\\pauls\\.conda\\envs\\dsi\\lib\\site-packages\\keras\\backend\\tensorflow_backend.py:3445: calling dropout (from tensorflow.python.ops.nn_ops) with keep_prob is deprecated and will be removed in a future version.\n",
      "Instructions for updating:\n",
      "Please use `rate` instead of `keep_prob`. Rate should be set to `rate = 1 - keep_prob`.\n"
     ]
    }
   ],
   "source": [
    "# create model instance\n",
    "model = Sequential()\n",
    "\n",
    "# add model layers\n",
    "model.add(Conv1D(filters=50, kernel_size=3,input_shape=(X_train.shape[1], 3),activation='relu'))\n",
    "model.add(MaxPooling1D(pool_size=4,padding='valid'))\n",
    "model.add(BatchNormalization())\n",
    "model.add(Conv1D(filters=50, kernel_size=3,activation='relu'))\n",
    "model.add(MaxPooling1D(pool_size=2,padding='valid'))\n",
    "model.add(BatchNormalization())\n",
    "model.add(GRU(\n",
    "    units=64,\n",
    "    activation='tanh',\n",
    "    recurrent_activation='sigmoid',\n",
    "    use_bias=True,\n",
    "    kernel_initializer='glorot_uniform',\n",
    "    return_sequences=True,  # because the next layer is also GRU\n",
    "    dropout=0.0, #0.303\n",
    "    recurrent_dropout=0.0, #0.458 \n",
    "    ))   \n",
    "model.add(GRU(\n",
    "    units=64,\n",
    "    activation='tanh',\n",
    "    recurrent_activation='sigmoid',\n",
    "    use_bias=True,\n",
    "    kernel_initializer='glorot_uniform',\n",
    "    return_sequences=False,  # because the next layer is dense \n",
    "#     dropout=0.2, # 0.196\n",
    "    recurrent_dropout=0.2  # 0.073\n",
    "    ))\n",
    "model.add(Dropout(0.1))\n",
    "model.add(Dense(3, kernel_initializer='uniform',activation='softmax'))"
   ]
  },
  {
   "cell_type": "code",
   "execution_count": 20,
   "metadata": {},
   "outputs": [
    {
     "name": "stdout",
     "output_type": "stream",
     "text": [
      "_________________________________________________________________\n",
      "Layer (type)                 Output Shape              Param #   \n",
      "=================================================================\n",
      "conv1d_1 (Conv1D)            (None, 98, 50)            500       \n",
      "_________________________________________________________________\n",
      "max_pooling1d_1 (MaxPooling1 (None, 24, 50)            0         \n",
      "_________________________________________________________________\n",
      "batch_normalization_1 (Batch (None, 24, 50)            200       \n",
      "_________________________________________________________________\n",
      "conv1d_2 (Conv1D)            (None, 22, 50)            7550      \n",
      "_________________________________________________________________\n",
      "max_pooling1d_2 (MaxPooling1 (None, 11, 50)            0         \n",
      "_________________________________________________________________\n",
      "batch_normalization_2 (Batch (None, 11, 50)            200       \n",
      "_________________________________________________________________\n",
      "gru_1 (GRU)                  (None, 11, 64)            22080     \n",
      "_________________________________________________________________\n",
      "gru_2 (GRU)                  (None, 64)                24768     \n",
      "_________________________________________________________________\n",
      "dropout_1 (Dropout)          (None, 64)                0         \n",
      "_________________________________________________________________\n",
      "dense_1 (Dense)              (None, 3)                 195       \n",
      "=================================================================\n",
      "Total params: 55,493\n",
      "Trainable params: 55,293\n",
      "Non-trainable params: 200\n",
      "_________________________________________________________________\n"
     ]
    }
   ],
   "source": [
    "# compile and summarize model\n",
    "model.compile(loss='categorical_crossentropy', \n",
    "             optimizer=Adam(lr=0.001), \n",
    "              metrics=['accuracy'])\n",
    "\n",
    "model.summary()"
   ]
  },
  {
   "cell_type": "code",
   "execution_count": 21,
   "metadata": {},
   "outputs": [
    {
     "name": "stdout",
     "output_type": "stream",
     "text": [
      "WARNING:tensorflow:From C:\\Users\\pauls\\.conda\\envs\\dsi\\lib\\site-packages\\tensorflow\\python\\ops\\math_ops.py:3066: to_int32 (from tensorflow.python.ops.math_ops) is deprecated and will be removed in a future version.\n",
      "Instructions for updating:\n",
      "Use tf.cast instead.\n",
      "Train on 13573 samples, validate on 6251 samples\n",
      "Epoch 1/2\n",
      "13573/13573 [==============================] - 36s 3ms/step - loss: 0.0733 - acc: 0.9824 - val_loss: 0.1448 - val_acc: 0.9614\n",
      "Epoch 2/2\n",
      "13573/13573 [==============================] - 31s 2ms/step - loss: 0.0136 - acc: 0.9967 - val_loss: 0.0859 - val_acc: 0.9781\n"
     ]
    }
   ],
   "source": [
    "# estimate model\n",
    "result = model.fit(X_train, y_train, epochs=2, batch_size=25, \n",
    "                   validation_data=(X_test,y_test), #callbacks=[early_stop]) #, model_saver]\n",
    "                  )"
   ]
  },
  {
   "cell_type": "code",
   "execution_count": 22,
   "metadata": {},
   "outputs": [
    {
     "name": "stdout",
     "output_type": "stream",
     "text": [
      "              precision    recall  f1-score   support\n",
      "\n",
      "   sedentary       0.99      1.00      0.99      2859\n",
      "          lm       1.00      0.96      0.98      2479\n",
      "    vigorous       0.90      0.97      0.93       913\n",
      "\n",
      "    accuracy                           0.98      6251\n",
      "   macro avg       0.96      0.98      0.97      6251\n",
      "weighted avg       0.98      0.98      0.98      6251\n",
      "\n"
     ]
    }
   ],
   "source": [
    "# get accuracy measures per class\n",
    "# source: https://stackoverflow.com/questions/45930750/how-to-output-per-class-accuracy-in-keras\n",
    "Y_test = np.argmax(y_test, axis=1) # Convert one-hot to index\n",
    "y_pred = model.predict_classes(X_test)\n",
    "print(classification_report(Y_test, y_pred, \n",
    "                            target_names=[\"sedentary\",\"lm\",\"vigorous\"]))"
   ]
  },
  {
   "cell_type": "code",
   "execution_count": 23,
   "metadata": {},
   "outputs": [],
   "source": [
    "# source: https://datascience.stackexchange.com/questions/40067/confusion-matrix-three-classes-python\n",
    "def plot_confusion_matrix(cm, classes,\n",
    "                          normalize=False,\n",
    "                          title='Confusion matrix',\n",
    "                          cmap=plt.cm.Blues):\n",
    "    \"\"\"\n",
    "    This function prints and plots the confusion matrix.\n",
    "    Normalization can be applied by setting `normalize=True`.\n",
    "    \"\"\"\n",
    "    if normalize:\n",
    "        cm = cm.astype('float') / cm.sum(axis=1)[:, np.newaxis]\n",
    "        print(\"Normalized confusion matrix\")\n",
    "    \n",
    "    \n",
    "    plt.rcParams.update({'font.size': 18})\n",
    "    plt.figure(figsize=(12,8))\n",
    "    plt.imshow(cm, interpolation='nearest', cmap=cmap)\n",
    "    plt.title(title)\n",
    "    plt.colorbar()\n",
    "    tick_marks = np.arange(len(classes))\n",
    "    plt.xticks(tick_marks, classes, rotation=45)\n",
    "    plt.yticks(tick_marks, classes)\n",
    "\n",
    "    fmt = '.2f' if normalize else 'd'\n",
    "    thresh = cm.max() / 2.\n",
    "    for i, j in itertools.product(range(cm.shape[0]), range(cm.shape[1])):\n",
    "        plt.text(j, i, format(cm[i, j], fmt),\n",
    "                 horizontalalignment=\"center\",\n",
    "                 color=\"white\" if cm[i, j] > thresh else \"black\")\n",
    "\n",
    "    plt.ylabel('True label')\n",
    "    plt.xlabel('Predicted label')\n",
    "    plt.tight_layout();"
   ]
  },
  {
   "cell_type": "code",
   "execution_count": 24,
   "metadata": {},
   "outputs": [
    {
     "data": {
      "text/plain": [
       "<Figure size 432x288 with 0 Axes>"
      ]
     },
     "metadata": {},
     "output_type": "display_data"
    },
    {
     "data": {
      "image/png": "[encoded data removed]",
      "text/plain": [
       "<Figure size 864x576 with 2 Axes>"
      ]
     },
     "metadata": {
      "needs_background": "light"
     },
     "output_type": "display_data"
    }
   ],
   "source": [
    "np.set_printoptions(precision=2)\n",
    "cm = confusion_matrix(Y_test, \n",
    "                      y_pred, \n",
    "                      )\n",
    "# Plot non-normalized confusion matrix\n",
    "plt.figure()\n",
    "plot_confusion_matrix(cm, \n",
    "                      classes=[\"sedentary\",\"light-moderate\",\"vigorous\"],\n",
    "                      title='Confusion matrix, Test Data, Neural Net Model',\n",
    "                        cmap='YlOrRd');\n"
   ]
  },
  {
   "cell_type": "markdown",
   "metadata": {},
   "source": [
    "## Validate on held-out data for remaining 5 subjects"
   ]
  },
  {
   "cell_type": "code",
   "execution_count": 25,
   "metadata": {},
   "outputs": [],
   "source": [
    "# re-estimate model on all data (all 10 subjects in modeling data)\n",
    "y = df.pa_label.groupby(df.sample_num).mean()\n",
    "y = to_categorical(y, 3)\n",
    "\n",
    "X = df[columns]\n",
    "X = sc.transform(X)\n",
    "X = np.array(X).reshape((-1,100,3))"
   ]
  },
  {
   "cell_type": "code",
   "execution_count": 27,
   "metadata": {},
   "outputs": [
    {
     "name": "stdout",
     "output_type": "stream",
     "text": [
      "Epoch 1/2\n",
      "19824/19824 [==============================] - 40s 2ms/step - loss: 0.0140 - acc: 0.9962\n",
      "Epoch 2/2\n",
      "19824/19824 [==============================] - 41s 2ms/step - loss: 0.0100 - acc: 0.9976\n"
     ]
    }
   ],
   "source": [
    "result = model.fit(X, y, epochs=2, batch_size=25)"
   ]
  },
  {
   "cell_type": "code",
   "execution_count": 28,
   "metadata": {},
   "outputs": [],
   "source": [
    "# read validation data\n",
    "validate = pd.read_pickle('./thigh_validate_clean.pkl')"
   ]
  },
  {
   "cell_type": "code",
   "execution_count": 29,
   "metadata": {},
   "outputs": [],
   "source": [
    "# create pa (physical activity) recode: 8 --> 3 classes\n",
    "validate['pa']=validate.activity.replace({'sitting':'sedentary','standing':'sedentary','walking':'lm','lying':'sedentary','climbingup':'lm',\n",
    "                     'running':'vigorous','climbingdown':'lm','jumping':'vigorous'})\n",
    "validate['pa_label']=validate.pa.replace({'sedentary':0,'lm':1,'vigorous':2})\n",
    "y_valid=validate.pa_label.groupby(validate.sample_num).mean()"
   ]
  },
  {
   "cell_type": "code",
   "execution_count": 30,
   "metadata": {},
   "outputs": [],
   "source": [
    "X_valid = validate[columns]\n",
    "X_valid = sc.transform(X_valid)\n",
    "X_valid = np.array(X_valid).reshape((-1,100,3))"
   ]
  },
  {
   "cell_type": "code",
   "execution_count": 31,
   "metadata": {},
   "outputs": [
    {
     "name": "stdout",
     "output_type": "stream",
     "text": [
      "              precision    recall  f1-score   support\n",
      "\n",
      "   sedentary       0.94      1.00      0.97      4728\n",
      "          lm       1.00      0.89      0.94      3614\n",
      "    vigorous       0.93      1.00      0.96      1551\n",
      "\n",
      "    accuracy                           0.96      9893\n",
      "   macro avg       0.96      0.96      0.96      9893\n",
      "weighted avg       0.96      0.96      0.96      9893\n",
      "\n"
     ]
    }
   ],
   "source": [
    "# get accuracy measures per class\n",
    "# source: https://stackoverflow.com/questions/45930750/how-to-output-per-class-accuracy-in-keras\n",
    "# Y_test = np.argmax(y_test, axis=1) # Convert one-hot to index\n",
    "y_valid_pred = model.predict_classes(X_valid)\n",
    "print(classification_report(y_valid, y_valid_pred, \n",
    "                            target_names=[\"sedentary\",\"lm\",\"vigorous\"]))"
   ]
  },
  {
   "cell_type": "code",
   "execution_count": 32,
   "metadata": {},
   "outputs": [
    {
     "data": {
      "text/plain": [
       "<Figure size 432x288 with 0 Axes>"
      ]
     },
     "metadata": {},
     "output_type": "display_data"
    },
    {
     "data": {
      "image/png": "[encoded data removed]",
      "text/plain": [
       "<Figure size 864x576 with 2 Axes>"
      ]
     },
     "metadata": {
      "needs_background": "light"
     },
     "output_type": "display_data"
    }
   ],
   "source": [
    "cm = confusion_matrix(y_valid, \n",
    "                      y_valid_pred, \n",
    "                      )\n",
    "# Plot non-normalized confusion matrix\n",
    "plt.figure()\n",
    "plot_confusion_matrix(cm, \n",
    "                      classes=[\"sedentary\",\"light-moderate\",\"vigorous\"],\n",
    "                      title='Confusion Matrix, Validation Data, CNN Model',\n",
    "                     cmap='YlOrRd');\n"
   ]
  }
 ],
 "metadata": {
  "kernelspec": {
   "display_name": "Python 3",
   "language": "python",
   "name": "python3"
  },
  "language_info": {
   "codemirror_mode": {
    "name": "ipython",
    "version": 3
   },
   "file_extension": ".py",
   "mimetype": "text/x-python",
   "name": "python",
   "nbconvert_exporter": "python",
   "pygments_lexer": "ipython3",
   "version": "3.6.8"
  }
 },
 "nbformat": 4,
 "nbformat_minor": 2
}
